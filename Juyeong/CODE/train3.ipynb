{
 "cells": [
  {
   "cell_type": "markdown",
   "metadata": {},
   "source": [
    "### 라벨링 오류 수정"
   ]
  },
  {
   "cell_type": "code",
   "execution_count": 2,
   "metadata": {},
   "outputs": [],
   "source": [
    "import pandas as pd"
   ]
  },
  {
   "cell_type": "code",
   "execution_count": 4,
   "metadata": {},
   "outputs": [],
   "source": [
    "df = pd.read_csv('/root/CV_PJT/CV_PJT/train2.csv')"
   ]
  },
  {
   "cell_type": "code",
   "execution_count": 5,
   "metadata": {},
   "outputs": [
    {
     "name": "stdout",
     "output_type": "stream",
     "text": [
      "                        ID  target\n",
      "38    0583254a73b48ece.jpg      10\n",
      "192   1ec14a14bbe633db.jpg       7\n",
      "340   38d1796b6ad99ddd.jpg      10\n",
      "428   45f0d2dfc7e47c03.jpg       7\n",
      "723   7100c5c67aecadc5.jpg       7\n",
      "862   8646f2c3280a4f49.jpg       3\n",
      "1095  aec62dced7af97cd.jpg      14\n",
      "1237  c5182ab809478f12.jpg      14\n"
     ]
    }
   ],
   "source": [
    "# Mapping of indices to correct target labels\n",
    "correct_labels = {\n",
    "    38: 10,\n",
    "    192: 7,\n",
    "    340: 10,\n",
    "    428: 7,\n",
    "    723: 7,\n",
    "    862: 3,\n",
    "    1095: 14,\n",
    "    1237: 14\n",
    "}\n",
    "\n",
    "# Update each index with the new target label\n",
    "for idx, correct_label in correct_labels.items():\n",
    "    df.at[idx, 'target'] = correct_label\n",
    "# Optionally, verify the updates by printing the updated rows\n",
    "print(df.loc[correct_labels.keys(), ['ID', 'target']])"
   ]
  },
  {
   "cell_type": "code",
   "execution_count": 9,
   "metadata": {},
   "outputs": [],
   "source": [
    "df.to_csv(\"train3.csv\", index=False)"
   ]
  },
  {
   "cell_type": "code",
   "execution_count": 10,
   "metadata": {},
   "outputs": [
    {
     "data": {
      "text/plain": [
       "147984"
      ]
     },
     "execution_count": 10,
     "metadata": {},
     "output_type": "execute_result"
    }
   ],
   "source": [
    "len(df)"
   ]
  }
 ],
 "metadata": {
  "kernelspec": {
   "display_name": "base",
   "language": "python",
   "name": "python3"
  },
  "language_info": {
   "codemirror_mode": {
    "name": "ipython",
    "version": 3
   },
   "file_extension": ".py",
   "mimetype": "text/x-python",
   "name": "python",
   "nbconvert_exporter": "python",
   "pygments_lexer": "ipython3",
   "version": "3.10.13"
  }
 },
 "nbformat": 4,
 "nbformat_minor": 2
}
