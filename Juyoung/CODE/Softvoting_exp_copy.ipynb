{
 "cells": [
  {
   "cell_type": "code",
   "execution_count": 15,
   "metadata": {},
   "outputs": [],
   "source": [
    "# 필요한 라이브러리 임포트\n",
    "import os\n",
    "import numpy as np\n",
    "import pandas as pd\n",
    "import torch\n",
    "import torch.nn as nn\n",
    "from torch.utils.data import Dataset, DataLoader\n",
    "from sklearn.model_selection import KFold\n",
    "from sklearn.ensemble import RandomForestClassifier\n",
    "from tqdm.notebook import tqdm\n",
    "import matplotlib.pyplot as plt\n",
    "import seaborn as sns\n",
    "\n",
    "from torchvision import transforms\n",
    "from torch.utils.data import Dataset, DataLoader, Subset\n",
    "from torchvision import transforms\n",
    "import torchvision.models as models\n",
    "import torchvision\n",
    "from PIL import Image"
   ]
  },
  {
   "cell_type": "code",
   "execution_count": 16,
   "metadata": {},
   "outputs": [],
   "source": [
    "import albumentations as A\n",
    "from albumentations.core.transforms_interface import ImageOnlyTransform\n",
    "from albumentations.pytorch import ToTensorV2\n",
    "from augraphy import *\n",
    "from augraphy.base.augmentationsequence import AugmentationSequence\n",
    "from augraphy.augmentations import *"
   ]
  },
  {
   "cell_type": "code",
   "execution_count": 17,
   "metadata": {},
   "outputs": [],
   "source": [
    "# # 데이터셋 클래스를 정의합니다.\n",
    "# class ImageDataset(Dataset):\n",
    "#     def __init__(self, csv, path, transform=None):\n",
    "#         self.df = pd.read_csv(csv).values\n",
    "#         self.path = path\n",
    "#         self.transform = transform\n",
    "\n",
    "#     def __len__(self):\n",
    "#         return len(self.df)\n",
    "\n",
    "#     def __getitem__(self, idx):\n",
    "#         name, target = self.df[idx, 0]\n",
    "#         img = np.array(Image.open(os.path.join(self.path, name)))\n",
    "#         if self.transform:\n",
    "#             img = self.transform(img)\n",
    "#         return img, target\n",
    "\n",
    "class ImageDataset(Dataset):\n",
    "    def __init__(self, csv_file, img_dir, transform=None):\n",
    "        self.df = pd.read_csv(csv_file).values\n",
    "        self.img_dir = img_dir\n",
    "        self.transform = transform\n",
    "\n",
    "    def __len__(self):\n",
    "        return len(self.df)\n",
    "\n",
    "    def __getitem__(self, idx):\n",
    "        name, target = self.df[idx]  # 수정된 부분\n",
    "        img_path = os.path.join(self.img_dir, name)\n",
    "        img = np.array(Image.open(img_path))        \n",
    "        \n",
    "        if self.transform:\n",
    "            augmented = self.transform(image=img)\n",
    "            img = augmented['image']\n",
    "        \n",
    "        return img, int(target)"
   ]
  },
  {
   "cell_type": "code",
   "execution_count": 18,
   "metadata": {},
   "outputs": [],
   "source": [
    "from augraphy import AugmentationSequence, InkBleed, ColorPaper, Markup, Scribbles, BleedThrough"
   ]
  },
  {
   "cell_type": "code",
   "execution_count": 19,
   "metadata": {},
   "outputs": [],
   "source": [
    "# Define AugraphyTransform as before\n",
    "class AugraphyTransform(ImageOnlyTransform):\n",
    "    def __init__(self, p=0.7, always_apply=False):\n",
    "        super(AugraphyTransform, self).__init__(p=p, always_apply=always_apply)\n",
    "        # Define the Augraphy pipeline with desired augmentations\n",
    "        self.pipeline = AugmentationSequence([\n",
    "            # Ink bleed effect\n",
    "            InkBleed(intensity_range=(0.1, 0.2), kernel_size=(3, 5), severity=(0.4, 0.6), p=0.5),\n",
    "            # Paper color changes\n",
    "            ColorPaper(hue_range=(-10, 10), saturation_range=(-30, 30), p=0.5),\n",
    "            # Markup\n",
    "            Markup(num_lines_range=(2, 5), p=0.5),\n",
    "            # Scribbles\n",
    "            Scribbles(scribbles_type=\"random\", scribbles_ink=\"random\", scribbles_location=\"random\",\n",
    "                      scribbles_size_range=(250, 600), scribbles_count_range=(1, 6), p=0.5),\n",
    "            # BleedThrough effect\n",
    "            BleedThrough(intensity_range=(0.1, 0.2), offsets=(10, 20), p=0.5),\n",
    "        ])\n",
    "\n",
    "    def apply(self, img, **params):\n",
    "        if not isinstance(img, np.ndarray):\n",
    "            img = np.array(img)\n",
    "        augmented_image = self.pipeline(img)[0]\n",
    "        return augmented_image"
   ]
  },
  {
   "cell_type": "code",
   "execution_count": 20,
   "metadata": {},
   "outputs": [],
   "source": [
    "# Define transformations with and without AugraphyTransform\n",
    "def get_transform(with_augraphy=True):\n",
    "    transform = A.Compose([\n",
    "    A.Resize(height=224, width=224),\n",
    "    A.Normalize(),\n",
    "    ToTensorV2(),\n",
    "])\n",
    "    if with_augraphy:\n",
    "        transforms.insert(4, AugraphyTransform(p=0.7))  # Insert AugraphyTransform before normalization\n",
    "    return A.Compose(transforms)"
   ]
  },
  {
   "cell_type": "code",
   "execution_count": 21,
   "metadata": {},
   "outputs": [],
   "source": [
    "import albumentations as A\n",
    "from albumentations.pytorch import ToTensorV2\n",
    "from torch.utils.data import DataLoader, random_split\n",
    "\n",
    "def get_transform(config, is_train=True):\n",
    "    transforms = [\n",
    "        A.Resize(height=config.image_size, width=config.image_size),\n",
    "        A.Normalize(),\n",
    "    ]\n",
    "    if is_train:\n",
    "        transforms.insert(1, A.HorizontalFlip(p=0.5))\n",
    "        if config.use_augraphy:\n",
    "            transforms.insert(1, AugraphyTransform(p=0.7))  # AugraphyTransform 정의 필요\n",
    "    transforms.append(ToTensorV2())\n",
    "    return A.Compose(transforms)\n",
    "\n",
    "def get_dataloaders(config, split=None):\n",
    "    full_dataset = ImageDataset(\n",
    "        os.path.join(config.base_dir, \"code\", \"trin4.csv\"),\n",
    "        config.train_data_dir,\n",
    "        transform=get_transform(config, is_train=True)\n",
    "    )\n",
    "    \n",
    "    train_size = int(0.8 * len(full_dataset))\n",
    "    val_size = len(full_dataset) - train_size\n",
    "    train_dataset, val_dataset = random_split(full_dataset, [train_size, val_size])\n",
    "    \n",
    "    test_dataset = ImageDataset(\n",
    "        os.path.join(config.base_dir, \"data\", \"data\", \"sample_submission.csv\"),\n",
    "        config.val_data_dir,\n",
    "        transform=get_transform(config, is_train=False)\n",
    "    )\n",
    "    \n",
    "    train_loader = DataLoader(train_dataset, batch_size=config.batch_size, shuffle=True, num_workers=config.num_workers, pin_memory=True)\n",
    "    val_loader = DataLoader(val_dataset, batch_size=config.batch_size, shuffle=False, num_workers=config.num_workers, pin_memory=True)\n",
    "    test_loader = DataLoader(test_dataset, batch_size=config.batch_size, shuffle=False, num_workers=config.num_workers, pin_memory=True)\n",
    "    \n",
    "    if split == 'train':\n",
    "        return train_dataset, train_loader\n",
    "    elif split == 'val':\n",
    "        return val_dataset, val_loader\n",
    "    elif split == 'test':\n",
    "        return test_dataset, test_loader\n",
    "    else:\n",
    "        return train_loader, val_loader, test_loader, test_dataset"
   ]
  },
  {
   "cell_type": "code",
   "execution_count": 22,
   "metadata": {},
   "outputs": [],
   "source": [
    "import os\n",
    "import torch\n",
    "from typing import List, Tuple\n",
    "\n",
    "class Config:\n",
    "    def __init__(self):\n",
    "        self.base_dir: str = '/root/CV_PJT/CV_PJT'\n",
    "        self.train_data_dir: str = os.path.join(self.base_dir, 'data', 'data', 'train')\n",
    "        self.val_data_dir: str = os.path.join(self.base_dir, 'data', 'data', 'test') \n",
    "        self.batch_size: int = 32 \n",
    "        self.num_workers: int = 4\n",
    "        self.image_size: int = 260  # Example size for ResNet or EfficientNet\n",
    "        self.use_augraphy: bool = False  # Set this according to your needs\n",
    "        self.device: torch.device = torch.device('cuda' if torch.cuda.is_available() else 'cpu')\n",
    "        self.output_dir: str = os.path.join(self.base_dir, 'code', 'ensemble', 'em_output')\n",
    "        \n",
    "        # Model weight path settings\n",
    "        self.models_info: List[Tuple[str, str]] = [\n",
    "            (\"efficientnet_b4\", \"/root/CV_PJT/CV_PJT/model/entire_model_effib4_all_epo7.pth\"),\n",
    "            (\"efficientnet_b0\", \"/root/CV_PJT/CV_PJT/model/entire_model_effib0_epo14.pth\"),\n",
    "            (\"resnet50\", \"/root/CV_PJT/CV_PJT/model/model_resnet50_best.pt\"),\n",
    "            (\"resnext50_32x4d\", \"/root/CV_PJT/CV_PJT/model/entire_model_resnext_(3).pth\"),            \n",
    "            (\"densenet121\", \"/root/CV_PJT/CV_PJT/model/model_densenet121_224_best.pt\"),\n",
    "            (\"efficientnet_b3\", \"/root/CV_PJT/CV_PJT/model/model_baseline_last_3,7.pt\"),\n",
    "            (\"efficientnet_b3\", \"/root/CV_PJT/CV_PJT/model/model_baseline_last_4,14.pt\"),\n",
    "            (\"efficientnet_b3\", \"/root/CV_PJT/CV_PJT/model/model_baseline_last_3,4,7,14.pt\")            \n",
    "        ]\n",
    "        self.num_classes: int = 17  # Adjust based on your classification task\n",
    "\n",
    "    def __str__(self) -> str:\n",
    "        return f\"Config(train_data_dir={self.train_data_dir}, val_data_dir={self.val_data_dir}, \" \\\n",
    "               f\"batch_size={self.batch_size}, num_workers={self.num_workers}, \" \\\n",
    "               f\"image_size={self.image_size}, use_augraphy={self.use_augraphy}, \" \\\n",
    "               f\"device={self.device}, output_dir={self.output_dir}, \" \\\n",
    "               f\"num_classes={self.num_classes})\"\n",
    "\n",
    "    def __repr__(self) -> str:\n",
    "        return self.__str__()"
   ]
  },
  {
   "cell_type": "code",
   "execution_count": 207,
   "metadata": {},
   "outputs": [],
   "source": [
    "# pip install --upgrade timm"
   ]
  },
  {
   "cell_type": "code",
   "execution_count": 29,
   "metadata": {},
   "outputs": [],
   "source": [
    "import timm"
   ]
  },
  {
   "cell_type": "code",
   "execution_count": 27,
   "metadata": {},
   "outputs": [],
   "source": [
    "import torchvision.models as models\n",
    "import torch.nn as nn\n",
    "import torch\n",
    "\n",
    "def get_model(model_name, config, device):\n",
    "    model = timm.create_model(model_name, pretrained=True, num_classes=config.num_classes)\n",
    "    return model"
   ]
  },
  {
   "cell_type": "code",
   "execution_count": 210,
   "metadata": {},
   "outputs": [],
   "source": [
    "# print(type(models))\n",
    "# print(dir(models))"
   ]
  },
  {
   "cell_type": "code",
   "execution_count": 24,
   "metadata": {},
   "outputs": [],
   "source": [
    "import torch\n",
    "import torchvision.models as models  # Make sure to import the models module"
   ]
  },
  {
   "cell_type": "code",
   "execution_count": 212,
   "metadata": {},
   "outputs": [],
   "source": [
    "# models."
   ]
  },
  {
   "cell_type": "code",
   "execution_count": 30,
   "metadata": {},
   "outputs": [],
   "source": [
    "from torchvision.models import swin_b, resnext50_32x4d, efficientnet_b0, efficientnet_b3, efficientnet_b4, resnet152, densenet121, resnet101, resnet50\n",
    "from torchvision.models import Swin_B_Weights, ResNeXt50_32X4D_Weights, EfficientNet_B0_Weights, EfficientNet_B3_Weights, EfficientNet_B4_Weights, ResNet152_Weights, DenseNet121_Weights, ResNet101_Weights, ResNet50_Weights\n",
    "from torchvision.models._api import WeightsEnum\n",
    "from torch.hub import load_state_dict_from_url\n",
    "\n",
    "def get_state_dict(self, *args, **kwargs):\n",
    "    kwargs.pop(\"check_hash\")\n",
    "    return load_state_dict_from_url(self.url, *args, **kwargs)\n",
    "\n",
    "WeightsEnum.get_state_dict = get_state_dict\n",
    "\n",
    "# 모델 초기화\n",
    "model1 = efficientnet_b0(weights=EfficientNet_B0_Weights.IMAGENET1K_V1)\n",
    "model2 = resnet152(weights=ResNet152_Weights.IMAGENET1K_V1)\n",
    "model3 = efficientnet_b4(weights=EfficientNet_B4_Weights.IMAGENET1K_V1)\n",
    "model4 = densenet121(weights=DenseNet121_Weights.IMAGENET1K_V1)\n",
    "model5 = resnet101(weights=ResNet101_Weights.IMAGENET1K_V1)\n",
    "model6 = resnet50(weights=ResNet50_Weights.IMAGENET1K_V1)\n",
    "model7 = efficientnet_b3(weights=EfficientNet_B3_Weights.IMAGENET1K_V1)\n",
    "model8 = resnext50_32x4d(weights=ResNeXt50_32X4D_Weights.IMAGENET1K_V1)\n",
    "model9 = swin_b(weights=Swin_B_Weights.IMAGENET1K_V1)\n",
    "\n",
    "# 모델 리스트\n",
    "models = [model1, model2, model3, model4, model5, model6, model7, model8, model9]"
   ]
  },
  {
   "cell_type": "code",
   "execution_count": 31,
   "metadata": {},
   "outputs": [
    {
     "name": "stdout",
     "output_type": "stream",
     "text": [
      "Using device: cuda\n",
      "Loading efficientnet_b4...\n",
      "Loading efficientnet_b0...\n",
      "Loading resnet50...\n",
      "Loading resnext50_32x4d...\n",
      "Loading densenet121...\n",
      "Loading efficientnet_b3...\n",
      "Loading efficientnet_b3...\n",
      "Loading efficientnet_b3...\n",
      "\n",
      "All models loaded successfully!\n"
     ]
    }
   ],
   "source": [
    "# 설정\n",
    "config = Config()\n",
    "device = torch.device('cuda' if torch.cuda.is_available() else 'cpu')\n",
    "print(f\"Using device: {device}\")\n",
    "\n",
    "# 모델 가중치 경로 설정\n",
    "models_info = [\n",
    "    (\"efficientnet_b4\", \"/root/CV_PJT/CV_PJT/model/entire_model_effib4_all_epo7.pth\"),\n",
    "    (\"efficientnet_b0\", \"/root/CV_PJT/CV_PJT/model/entire_model_effib0_epo14.pth\"),\n",
    "    (\"resnet50\", \"/root/CV_PJT/CV_PJT/model/model_resnet50_best.pt\"),\n",
    "    (\"resnext50_32x4d\", \"/root/CV_PJT/CV_PJT/model/entire_model_resnext_(3).pth\"),            \n",
    "    (\"densenet121\", \"/root/CV_PJT/CV_PJT/model/model_densenet121_224_best.pt\"),\n",
    "    (\"efficientnet_b3\", \"/root/CV_PJT/CV_PJT/model/model_baseline_last_3,7.pt\"),\n",
    "    (\"efficientnet_b3\", \"/root/CV_PJT/CV_PJT/model/model_baseline_last_4,14.pt\"),\n",
    "    (\"efficientnet_b3\", \"/root/CV_PJT/CV_PJT/model/model_baseline_last_3,4,7,14.pt\")\n",
    "    # 추가 모델들...\n",
    "]\n",
    "\n",
    "# 데이터 로더 생성\n",
    "train_loader, val_loader, test_loader, test_dataset = get_dataloaders(config)\n",
    "\n",
    "class EnsembleModel:\n",
    "    def __init__(self, models, device):\n",
    "        self.models = models\n",
    "        self.device = device\n",
    "        \n",
    "    def predict_proba(self, dataloader):\n",
    "        all_predictions = []\n",
    "        \n",
    "        for model in self.models:\n",
    "            model.eval()\n",
    "            model_predictions = []\n",
    "            \n",
    "            with torch.no_grad():\n",
    "                for inputs, _ in tqdm(dataloader, desc=f\"Model predictions\"):\n",
    "                    inputs = inputs.to(self.device)\n",
    "                    outputs = model(inputs)\n",
    "                    probas = torch.softmax(outputs, dim=1)\n",
    "                    model_predictions.append(probas.cpu().numpy())\n",
    "            \n",
    "            all_predictions.append(np.concatenate(model_predictions))\n",
    "        \n",
    "        return np.mean(all_predictions, axis=0)\n",
    "\n",
    "    def predict(self, dataloader):\n",
    "        probas = self.predict_proba(dataloader)\n",
    "        return np.argmax(probas, axis=1)\n",
    "\n",
    "class StackingEnsemble:\n",
    "    def __init__(self, base_models, meta_model, device):\n",
    "        self.base_models = base_models\n",
    "        self.meta_model = meta_model\n",
    "        self.device = device\n",
    "        \n",
    "    def create_meta_features(self, dataloader):\n",
    "        all_predictions = []\n",
    "        \n",
    "        for model in self.base_models:\n",
    "            model.eval()\n",
    "            model_predictions = []\n",
    "            \n",
    "            with torch.no_grad():\n",
    "                for inputs, _ in tqdm(dataloader, desc=f\"Creating meta-features\"):\n",
    "                    inputs = inputs.to(self.device)\n",
    "                    outputs = model(inputs)\n",
    "                    probas = torch.softmax(outputs, dim=1)\n",
    "                    model_predictions.append(probas.cpu().numpy())\n",
    "            \n",
    "            all_predictions.append(np.concatenate(model_predictions))\n",
    "        \n",
    "        return np.column_stack(all_predictions)\n",
    "        \n",
    "    def fit(self, train_loader):\n",
    "        print(\"Creating meta-features for training...\")\n",
    "        meta_features = self.create_meta_features(train_loader)\n",
    "        \n",
    "        true_labels = []\n",
    "        for _, labels in train_loader:\n",
    "            true_labels.extend(labels.numpy())\n",
    "        \n",
    "        print(\"Training meta model...\")\n",
    "        self.meta_model.fit(meta_features, np.array(true_labels))\n",
    "        \n",
    "    def predict(self, test_loader):\n",
    "        meta_features = self.create_meta_features(test_loader)\n",
    "        return self.meta_model.predict(meta_features)\n",
    "\n",
    "\n",
    "# 모델 로드\n",
    "models = []\n",
    "for model_name, weight_path in models_info:\n",
    "    print(f\"Loading {model_name}...\")\n",
    "    model = get_model(model_name, config, device)\n",
    "    \n",
    "    # 가중치 로드\n",
    "    state_dict = torch.load(weight_path, map_location=device)\n",
    "    \n",
    "    # 로드된 객체가 state_dict인지 확인\n",
    "    if isinstance(state_dict, dict) and \"state_dict\" in state_dict:\n",
    "        # 전체 체크포인트가 저장된 경우\n",
    "        model.load_state_dict(state_dict[\"state_dict\"], strict=False)\n",
    "    elif isinstance(state_dict, dict):\n",
    "        # state_dict만 저장된 경우\n",
    "        model.load_state_dict(state_dict, strict=False)\n",
    "    else:\n",
    "        # 전체 모델이 저장된 경우\n",
    "        model = state_dict\n",
    "    \n",
    "    model.to(device)\n",
    "    model.eval()  # 평가 모드로 설정\n",
    "    models.append(model)\n",
    "\n",
    "print(\"\\nAll models loaded successfully!\")"
   ]
  },
  {
   "cell_type": "code",
   "execution_count": 215,
   "metadata": {},
   "outputs": [
    {
     "name": "stdout",
     "output_type": "stream",
     "text": [
      "Performing Soft Voting ensemble...\n"
     ]
    },
    {
     "data": {
      "application/vnd.jupyter.widget-view+json": {
       "model_id": "d6b61cfe42574dfa8a451793d5bcf73a",
       "version_major": 2,
       "version_minor": 0
      },
      "text/plain": [
       "Model predictions:   0%|          | 0/99 [00:00<?, ?it/s]"
      ]
     },
     "metadata": {},
     "output_type": "display_data"
    },
    {
     "data": {
      "application/vnd.jupyter.widget-view+json": {
       "model_id": "0fb8377fd86a42ac9d6462f5fdef1d07",
       "version_major": 2,
       "version_minor": 0
      },
      "text/plain": [
       "Model predictions:   0%|          | 0/99 [00:00<?, ?it/s]"
      ]
     },
     "metadata": {},
     "output_type": "display_data"
    },
    {
     "data": {
      "application/vnd.jupyter.widget-view+json": {
       "model_id": "69178766e63d43019a99325886a68f85",
       "version_major": 2,
       "version_minor": 0
      },
      "text/plain": [
       "Model predictions:   0%|          | 0/99 [00:00<?, ?it/s]"
      ]
     },
     "metadata": {},
     "output_type": "display_data"
    },
    {
     "data": {
      "application/vnd.jupyter.widget-view+json": {
       "model_id": "267291fac3ae4cc7be071548f8d70944",
       "version_major": 2,
       "version_minor": 0
      },
      "text/plain": [
       "Model predictions:   0%|          | 0/99 [00:00<?, ?it/s]"
      ]
     },
     "metadata": {},
     "output_type": "display_data"
    },
    {
     "data": {
      "application/vnd.jupyter.widget-view+json": {
       "model_id": "73c73b56cdda440480d138451104983a",
       "version_major": 2,
       "version_minor": 0
      },
      "text/plain": [
       "Model predictions:   0%|          | 0/99 [00:00<?, ?it/s]"
      ]
     },
     "metadata": {},
     "output_type": "display_data"
    },
    {
     "data": {
      "application/vnd.jupyter.widget-view+json": {
       "model_id": "90d091f7de9f45838069e709d32a7add",
       "version_major": 2,
       "version_minor": 0
      },
      "text/plain": [
       "Model predictions:   0%|          | 0/99 [00:00<?, ?it/s]"
      ]
     },
     "metadata": {},
     "output_type": "display_data"
    },
    {
     "data": {
      "application/vnd.jupyter.widget-view+json": {
       "model_id": "efbdad0363504a87a7ac95f116cdf116",
       "version_major": 2,
       "version_minor": 0
      },
      "text/plain": [
       "Model predictions:   0%|          | 0/99 [00:00<?, ?it/s]"
      ]
     },
     "metadata": {},
     "output_type": "display_data"
    },
    {
     "data": {
      "application/vnd.jupyter.widget-view+json": {
       "model_id": "3bcf9c3001d449609678ed369da7d0a4",
       "version_major": 2,
       "version_minor": 0
      },
      "text/plain": [
       "Model predictions:   0%|          | 0/99 [00:00<?, ?it/s]"
      ]
     },
     "metadata": {},
     "output_type": "display_data"
    },
    {
     "name": "stdout",
     "output_type": "stream",
     "text": [
      "Saved soft voting predictions to: /root/CV_PJT/CV_PJT/code/ensemble/em_output/predictions_soft_voting_20241107_041139.csv\n"
     ]
    }
   ],
   "source": [
    "# Soft Voting 앙상블\n",
    "print(\"Performing Soft Voting ensemble...\")\n",
    "soft_voting = EnsembleModel(models, device)\n",
    "soft_voting_preds = soft_voting.predict(test_loader)\n",
    "\n",
    "# Define the output directory\n",
    "output_dir = '/root/CV_PJT/CV_PJT/code/ensemble/em_output'\n",
    "\n",
    "# 결과 저장\n",
    "timestamp = pd.Timestamp.now().strftime(\"%Y%m%d_%H%M%S\")\n",
    "\n",
    "# Soft Voting 결과 저장\n",
    "soft_voting_df = pd.DataFrame({\n",
    "    'ID': test_dataset.df[:, 0],\n",
    "    'target': soft_voting_preds\n",
    "})\n",
    "\n",
    "soft_voting_filename = os.path.join(output_dir, f\"predictions_soft_voting_{timestamp}.csv\")\n",
    "soft_voting_df.to_csv(soft_voting_filename, index=False)\n",
    "print(f\"Saved soft voting predictions to: {soft_voting_filename}\")"
   ]
  },
  {
   "cell_type": "code",
   "execution_count": 218,
   "metadata": {},
   "outputs": [
    {
     "data": {
      "image/png": "[encoded data removed]",
      "text/plain": [
       "<Figure size 1200x600 with 1 Axes>"
      ]
     },
     "metadata": {},
     "output_type": "display_data"
    }
   ],
   "source": [
    "# 추가로 성능 시각화를 위한 코드\n",
    "def plot_prediction_distribution():\n",
    "    plt.figure(figsize=(12, 6))\n",
    "    \n",
    "    plt.subplot(1, 2, 1)\n",
    "    sns.countplot(data=soft_voting_df, x='target')\n",
    "    plt.title('Soft Voting Predictions Distribution')\n",
    "    \n",
    "    \n",
    "    plt.tight_layout()\n",
    "    plt.show()\n",
    "\n",
    "plot_prediction_distribution()"
   ]
  }
 ],
 "metadata": {
  "kernelspec": {
   "display_name": "base",
   "language": "python",
   "name": "python3"
  },
  "language_info": {
   "codemirror_mode": {
    "name": "ipython",
    "version": 3
   },
   "file_extension": ".py",
   "mimetype": "text/x-python",
   "name": "python",
   "nbconvert_exporter": "python",
   "pygments_lexer": "ipython3",
   "version": "3.10.13"
  }
 },
 "nbformat": 4,
 "nbformat_minor": 2
}
