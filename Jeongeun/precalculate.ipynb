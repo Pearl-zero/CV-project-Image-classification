{
 "cells": [
  {
   "cell_type": "code",
   "execution_count": 1,
   "metadata": {},
   "outputs": [],
   "source": [
    "import pandas as pd"
   ]
  },
  {
   "cell_type": "code",
   "execution_count": 7,
   "metadata": {},
   "outputs": [
    {
     "name": "stdout",
     "output_type": "stream",
     "text": [
      "일치하는 id 수량: 2982\n",
      "일치하는 비율: 0.9497\n",
      "전체 id 수량: 3140\n"
     ]
    }
   ],
   "source": [
    "# CSV 파일 불러오기\n",
    "csv_file_1 = '0.9467.csv'\n",
    "csv_file_2 = 'pred_resnet50fin_best.csv'\n",
    "\n",
    "df1 = pd.read_csv(csv_file_1)  # 점수 가장 높은 CSV 파일\n",
    "df2 = pd.read_csv(csv_file_2)  # 비교할 CSV 파일\n",
    "\n",
    "# id를 기준으로 두 DataFrame을 병합\n",
    "merged_df = pd.merge(df1, df2, on='ID', suffixes=('_1', '_2'))\n",
    "\n",
    "# target 값 비교 (일치 여부 확인)\n",
    "merged_df['target_match'] = merged_df['target_1'] == merged_df['target_2']\n",
    "\n",
    "# 일치하는 비율 계산\n",
    "match_ratio = merged_df['target_match'].mean()\n",
    "\n",
    "# 일치하는 id 수량 계산\n",
    "matching_ids_count = merged_df['target_match'].sum()\n",
    "\n",
    "# 전체 id 수량\n",
    "total_ids_count = len(merged_df)\n",
    "\n",
    "# 결과 출력\n",
    "print(f\"일치하는 id 수량: {matching_ids_count}\")\n",
    "print(f\"일치하는 비율: {match_ratio:.4f}\")\n",
    "print(f\"전체 id 수량: {total_ids_count}\")\n"
   ]
  }
 ],
 "metadata": {
  "kernelspec": {
   "display_name": "base",
   "language": "python",
   "name": "python3"
  },
  "language_info": {
   "codemirror_mode": {
    "name": "ipython",
    "version": 3
   },
   "file_extension": ".py",
   "mimetype": "text/x-python",
   "name": "python",
   "nbconvert_exporter": "python",
   "pygments_lexer": "ipython3",
   "version": "3.12.4"
  }
 },
 "nbformat": 4,
 "nbformat_minor": 2
}
