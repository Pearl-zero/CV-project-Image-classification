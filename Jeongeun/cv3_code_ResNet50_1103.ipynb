{
 "cells": [
  {
   "cell_type": "code",
   "execution_count": 2,
   "metadata": {},
   "outputs": [],
   "source": [
    "#필요한 라이브러리 임포트\n",
    " \n",
    "import os\n",
    "import time\n",
    "import random\n",
    "import timm\n",
    "import torch\n",
    "import albumentations as A\n",
    "import pandas as pd\n",
    "import numpy as np\n",
    "import torch.nn as nn\n",
    "from albumentations.pytorch import ToTensorV2\n",
    "from torch.optim import Adam\n",
    "from torchvision import transforms\n",
    "from torch.utils.data import Dataset, DataLoader\n",
    "from PIL import Image\n",
    "from tqdm import tqdm\n",
    "from sklearn.metrics import accuracy_score, f1_score\n",
    "from sklearn.model_selection import train_test_split\n",
    "from torch.utils.data import random_split\n",
    "\n"
   ]
  },
  {
   "cell_type": "code",
   "execution_count": null,
   "metadata": {},
   "outputs": [],
   "source": [
    "# 랜덤 시드 고정: 결과 재현성을 위해 시드를 고정\n",
    "\n",
    "SEED = 42\n",
    "os.environ['PYTHONHASHSEED'] = str(SEED) # 해시 시드 고정\n",
    "random.seed(SEED) # 파이썬 랜덤 시드 고정\n",
    "np.random.seed(SEED) # NumPy 랜덤 시드 고정\n",
    "torch.manual_seed(SEED) # PyTorch CPU 시드 고정\n",
    "torch.cuda.manual_seed(SEED) # PyTorch CUDA 시드 고정\n",
    "torch.cuda.manual_seed_all(SEED) # 모든 GPU에 대한 PyTorch CUDA 시드 고정\n",
    "torch.backends.cudnn.benchmark = True # CUDA의 성능 최적화"
   ]
  },
  {
   "cell_type": "code",
   "execution_count": 3,
   "metadata": {},
   "outputs": [],
   "source": [
    "# 데이터셋 클래스를 정의\n",
    "\n",
    "class ImageDataset(Dataset):\n",
    "    def __init__(self, csv, path, transform=None):\n",
    "        self.df = pd.read_csv(csv).values # CSV 파일에서 데이터 로드\n",
    "        self.path = path # 이미지 파일 경로\n",
    "        self.transform = transform # 데이터 변환 함수\n",
    "\n",
    "    def __len__(self):\n",
    "        return len(self.df) # 데이터셋의 길이 반환\n",
    "\n",
    "    def __getitem__(self, idx):\n",
    "        name, target = self.df[idx] # 이미지 이름과 타겟 레이블 추출\n",
    "        img = np.array(Image.open(os.path.join(self.path, name))) # 이미지 로드\n",
    "        if self.transform:\n",
    "            img = self.transform(image=img)['image'] # 변환 적용\n",
    "        return img, target # 이미지와 레이블 반환\n",
    "\n"
   ]
  },
  {
   "cell_type": "code",
   "execution_count": 4,
   "metadata": {},
   "outputs": [],
   "source": [
    "# 이미지 크기 및 변환 설정\n",
    "img_size = 260\n",
    "\n",
    "# augmentation을 위한 transform 코드\n",
    "trn_transform = A.Compose([\n",
    "    A.Resize(height=img_size, width=img_size),\n",
    "    A.Normalize(mean=[0.485, 0.456, 0.406], std=[0.229, 0.224, 0.225]),\n",
    "    ToTensorV2(),\n",
    "])\n",
    "\n",
    "# test image 변환을 위한 transform 코드\n",
    "tst_transform = A.Compose([\n",
    "    A.Resize(height=img_size, width=img_size),\n",
    "    A.Normalize(mean=[0.485, 0.456, 0.406], std=[0.229, 0.224, 0.225]),\n",
    "    ToTensorV2(),\n",
    "])\n"
   ]
  },
  {
   "cell_type": "code",
   "execution_count": 5,
   "metadata": {},
   "outputs": [
    {
     "name": "stdout",
     "output_type": "stream",
     "text": [
      "Full dataset size: 147616\n",
      "Training dataset size: 118092\n",
      "Validation dataset size: 29524\n"
     ]
    }
   ],
   "source": [
    "# 데이터셋 정의\n",
    "full_dataset = ImageDataset(\"data2/train2.csv\", \"data2/train\", transform=trn_transform)\n",
    "\n",
    "# 데이터셋 크기 및 분할\n",
    "dataset_size = len(full_dataset)\n",
    "train_ratio = 0.8\n",
    "train_size = int(train_ratio * dataset_size)\n",
    "val_size = dataset_size - train_size\n",
    "\n",
    "# 전체 인덱스를 생성하고 섞기\n",
    "indices = list(range(dataset_size))\n",
    "random.seed(42)  # 랜덤 시드 고정\n",
    "random.shuffle(indices)\n",
    "\n",
    "# 섞인 인덱스를 사용하여 데이터셋 분할\n",
    "train_indices = indices[:train_size]\n",
    "val_indices = indices[train_size:]\n",
    "\n",
    "trn_dataset = torch.utils.data.Subset(full_dataset, train_indices)\n",
    "val_dataset = torch.utils.data.Subset(full_dataset, val_indices)\n",
    "\n",
    "# DataLoader 정의\n",
    "BATCH_SIZE = 32\n",
    "num_workers = 0\n",
    "\n",
    "trn_loader = DataLoader(trn_dataset, batch_size=BATCH_SIZE, shuffle=True, num_workers=num_workers)\n",
    "val_loader = DataLoader(val_dataset, batch_size=BATCH_SIZE, shuffle=False, num_workers=num_workers)\n",
    "\n",
    "# 데이터셋 크기 출력\n",
    "print(\"Full dataset size:\", dataset_size)\n",
    "print(\"Training dataset size:\", len(trn_dataset))\n",
    "print(\"Validation dataset size:\", len(val_dataset))\n",
    "\n"
   ]
  },
  {
   "cell_type": "code",
   "execution_count": 6,
   "metadata": {},
   "outputs": [],
   "source": [
    "# device 설정\n",
    "device = torch.device('cuda' if torch.cuda.is_available() else 'cpu')\n",
    "\n",
    "# 모델 설정\n",
    "model_name = 'resnet50'\n",
    "model = timm.create_model(model_name, pretrained=True, num_classes=17).to(device)\n",
    "\n",
    "# 손실 함수 및 옵티마이저 설정\n",
    "loss_fn = nn.CrossEntropyLoss()\n",
    "optimizer = Adam(model.parameters(), lr=1e-3)\n"
   ]
  },
  {
   "cell_type": "code",
   "execution_count": 7,
   "metadata": {},
   "outputs": [],
   "source": [
    "# 에폭당 학습을 위한 함수\n",
    "\n",
    "def train_one_epoch(loader, model, optimizer, loss_fn, device):\n",
    "    model.train() # 모델을 학습 모드로 설정\n",
    "    train_loss = 0\n",
    "    preds_list = [] # 예측 결과 리스트 초기화\n",
    "    targets_list = [] # 타겟 리스트 초기화\n",
    "\n",
    "    pbar = tqdm(loader) # 진행 상황을 표시하기 위한 tqdm\n",
    "    for image, targets in pbar:\n",
    "        image = image.to(device) # 이미지 텐서를 지정한 장치로 이동\n",
    "        targets = targets.to(device) # 타겟 텐서를 지정한 장치로 이동\n",
    "\n",
    "        model.zero_grad(set_to_none=True) # 그래디언트 초기화\n",
    "\n",
    "        preds = model(image) # 모델 예측\n",
    "        loss = loss_fn(preds, targets) # 손실 계산\n",
    "        loss.backward() # 역전파\n",
    "        optimizer.step() # 최적화 단계\n",
    "\n",
    "        train_loss += loss.item() # 손실 누적\n",
    "        preds_list.extend(preds.argmax(dim=1).detach().cpu().numpy()) # 예측 결과 추가\n",
    "        targets_list.extend(targets.detach().cpu().numpy()) # 타겟 추가\n",
    "\n",
    "        pbar.set_description(f\"Loss: {loss.item():.4f}\") # 진행 바에 손실 출력\n",
    "\n",
    "    train_loss /= len(loader) # 평균 손실 계산\n",
    "    train_acc = accuracy_score(targets_list, preds_list) # 정확도 계산\n",
    "    train_f1 = f1_score(targets_list, preds_list, average='macro') # F1 점수 계산\n",
    "\n",
    "    ret = {\n",
    "        \"train_loss\": train_loss, # 평균 손실\n",
    "        \"train_acc\": train_acc, # 정확도\n",
    "        \"train_f1\": train_f1, # F1 점수\n",
    "    }\n",
    "\n",
    "    return ret # 결과 반환\n",
    "\n",
    "def validation(model, val_loader, loss_fn):\n",
    "    model.eval()\n",
    "    val_loss = 0\n",
    "    preds_list = []\n",
    "    targets_list = []\n",
    "    \n",
    "    with torch.no_grad():\n",
    "        for val_images, val_labels in val_loader:\n",
    "            val_images, val_labels = val_images.to(device), val_labels.to(device)\n",
    "            val_outputs = model(val_images)\n",
    "            loss = loss_fn(val_outputs, val_labels)\n",
    "            val_loss += loss.item()\n",
    "            preds_list.extend(val_outputs.argmax(dim=1).cpu().numpy())\n",
    "            targets_list.extend(val_labels.cpu().numpy())\n",
    "    \n",
    "    val_loss /= len(val_loader)\n",
    "    val_acc = accuracy_score(targets_list, preds_list)\n",
    "    val_f1 = f1_score(targets_list, preds_list, average='macro')\n",
    "    \n",
    "    return val_loss, val_acc, val_f1\n",
    "\n"
   ]
  },
  {
   "cell_type": "code",
   "execution_count": 8,
   "metadata": {},
   "outputs": [
    {
     "name": "stderr",
     "output_type": "stream",
     "text": [
      "Loss: 0.0140: 100%|██████████| 3691/3691 [15:20<00:00,  4.01it/s]\n"
     ]
    },
    {
     "name": "stdout",
     "output_type": "stream",
     "text": [
      "Epoch [1/100], Train Loss: 0.1745, Train Acc: 0.9379, Train F1: 0.9377, Val Loss: 0.0532, Val Acc: 0.9810, Val F1: 0.9812\n"
     ]
    },
    {
     "name": "stderr",
     "output_type": "stream",
     "text": [
      "Loss: 0.0717: 100%|██████████| 3691/3691 [13:59<00:00,  4.40it/s]\n"
     ]
    },
    {
     "name": "stdout",
     "output_type": "stream",
     "text": [
      "Epoch [2/100], Train Loss: 0.0460, Train Acc: 0.9839, Train F1: 0.9839, Val Loss: 0.0502, Val Acc: 0.9835, Val F1: 0.9837\n"
     ]
    },
    {
     "name": "stderr",
     "output_type": "stream",
     "text": [
      "Loss: 0.0172: 100%|██████████| 3691/3691 [13:53<00:00,  4.43it/s]\n"
     ]
    },
    {
     "name": "stdout",
     "output_type": "stream",
     "text": [
      "Epoch [3/100], Train Loss: 0.0307, Train Acc: 0.9898, Train F1: 0.9898, Val Loss: 0.0306, Val Acc: 0.9902, Val F1: 0.9903\n"
     ]
    },
    {
     "name": "stderr",
     "output_type": "stream",
     "text": [
      "Loss: 0.0262: 100%|██████████| 3691/3691 [13:59<00:00,  4.40it/s]\n"
     ]
    },
    {
     "name": "stdout",
     "output_type": "stream",
     "text": [
      "Epoch [4/100], Train Loss: 0.0231, Train Acc: 0.9922, Train F1: 0.9922, Val Loss: 0.0390, Val Acc: 0.9868, Val F1: 0.9870\n"
     ]
    },
    {
     "name": "stderr",
     "output_type": "stream",
     "text": [
      "Loss: 0.0081: 100%|██████████| 3691/3691 [14:09<00:00,  4.35it/s]\n"
     ]
    },
    {
     "name": "stdout",
     "output_type": "stream",
     "text": [
      "Epoch [5/100], Train Loss: 0.0181, Train Acc: 0.9941, Train F1: 0.9941, Val Loss: 0.0294, Val Acc: 0.9904, Val F1: 0.9904\n"
     ]
    },
    {
     "name": "stderr",
     "output_type": "stream",
     "text": [
      "Loss: 0.1373: 100%|██████████| 3691/3691 [13:50<00:00,  4.44it/s]\n"
     ]
    },
    {
     "name": "stdout",
     "output_type": "stream",
     "text": [
      "Epoch [6/100], Train Loss: 0.0149, Train Acc: 0.9951, Train F1: 0.9951, Val Loss: 0.0355, Val Acc: 0.9885, Val F1: 0.9885\n"
     ]
    },
    {
     "name": "stderr",
     "output_type": "stream",
     "text": [
      "Loss: 0.0033: 100%|██████████| 3691/3691 [13:49<00:00,  4.45it/s]\n"
     ]
    },
    {
     "name": "stdout",
     "output_type": "stream",
     "text": [
      "Epoch [7/100], Train Loss: 0.0122, Train Acc: 0.9958, Train F1: 0.9958, Val Loss: 0.0146, Val Acc: 0.9954, Val F1: 0.9954\n"
     ]
    },
    {
     "name": "stderr",
     "output_type": "stream",
     "text": [
      "Loss: 0.0028: 100%|██████████| 3691/3691 [13:57<00:00,  4.41it/s]\n"
     ]
    },
    {
     "name": "stdout",
     "output_type": "stream",
     "text": [
      "Epoch [8/100], Train Loss: 0.0120, Train Acc: 0.9958, Train F1: 0.9958, Val Loss: 0.0122, Val Acc: 0.9961, Val F1: 0.9961\n"
     ]
    },
    {
     "name": "stderr",
     "output_type": "stream",
     "text": [
      "Loss: 0.0014: 100%|██████████| 3691/3691 [13:45<00:00,  4.47it/s]\n"
     ]
    },
    {
     "name": "stdout",
     "output_type": "stream",
     "text": [
      "Epoch [9/100], Train Loss: 0.0097, Train Acc: 0.9970, Train F1: 0.9970, Val Loss: 0.0164, Val Acc: 0.9952, Val F1: 0.9953\n"
     ]
    },
    {
     "name": "stderr",
     "output_type": "stream",
     "text": [
      "Loss: 0.0019: 100%|██████████| 3691/3691 [13:41<00:00,  4.49it/s]\n"
     ]
    },
    {
     "name": "stdout",
     "output_type": "stream",
     "text": [
      "Epoch [10/100], Train Loss: 0.0094, Train Acc: 0.9969, Train F1: 0.9969, Val Loss: 0.0131, Val Acc: 0.9959, Val F1: 0.9959\n"
     ]
    },
    {
     "name": "stderr",
     "output_type": "stream",
     "text": [
      "Loss: 0.0011: 100%|██████████| 3691/3691 [13:53<00:00,  4.43it/s]\n"
     ]
    },
    {
     "name": "stdout",
     "output_type": "stream",
     "text": [
      "Epoch [11/100], Train Loss: 0.0082, Train Acc: 0.9972, Train F1: 0.9972, Val Loss: 0.0188, Val Acc: 0.9938, Val F1: 0.9939\n"
     ]
    },
    {
     "name": "stderr",
     "output_type": "stream",
     "text": [
      "Loss: 0.0001: 100%|██████████| 3691/3691 [13:47<00:00,  4.46it/s]\n"
     ]
    },
    {
     "name": "stdout",
     "output_type": "stream",
     "text": [
      "Epoch [12/100], Train Loss: 0.0074, Train Acc: 0.9976, Train F1: 0.9976, Val Loss: 0.0248, Val Acc: 0.9923, Val F1: 0.9924\n"
     ]
    },
    {
     "name": "stderr",
     "output_type": "stream",
     "text": [
      "Loss: 0.0012: 100%|██████████| 3691/3691 [10:40<00:00,  5.77it/s]\n"
     ]
    },
    {
     "name": "stdout",
     "output_type": "stream",
     "text": [
      "Early stopping\n"
     ]
    }
   ],
   "source": [
    "EPOCHS = 100\n",
    "best_val_loss = float('inf')\n",
    "patience = 5\n",
    "early_stop_counter = 0\n",
    "\n",
    "for epoch in range(EPOCHS):\n",
    "    train_results = train_one_epoch(trn_loader, model, optimizer, loss_fn, device)\n",
    "    val_loss, val_accuracy, val_f1 = validation(model, val_loader, loss_fn)\n",
    "\n",
    "    print(f\"Epoch [{epoch + 1}/{EPOCHS}], \"\n",
    "          f\"Train Loss: {train_results['train_loss']:.4f}, \"\n",
    "          f\"Train Acc: {train_results['train_acc']:.4f}, \"\n",
    "          f\"Train F1: {train_results['train_f1']:.4f}, \"\n",
    "          f\"Val Loss: {val_loss:.4f}, \"\n",
    "          f\"Val Acc: {val_accuracy:.4f}, \"\n",
    "          f\"Val F1: {val_f1:.4f}\")\n",
    "    \n",
    "    # 조기 종료 조건\n",
    "    if val_loss < best_val_loss:\n",
    "        best_val_loss = val_loss\n",
    "        torch.save(model.state_dict(), f\"./model_baseline_best.pt\")\n",
    "        early_stop_counter = 0\n",
    "    else:\n",
    "        early_stop_counter += 1\n",
    "\n",
    "    if early_stop_counter >= patience:\n",
    "        print(\"Early stopping\")\n",
    "        break\n",
    "\n",
    "\n",
    "    \n",
    "# 마지막 모델 저장\n",
    "torch.save(model.state_dict(), f\"./model_baseline_last.pt\")"
   ]
  },
  {
   "cell_type": "code",
   "execution_count": 9,
   "metadata": {},
   "outputs": [
    {
     "name": "stderr",
     "output_type": "stream",
     "text": [
      "100%|██████████| 99/99 [00:10<00:00,  9.41it/s]\n"
     ]
    }
   ],
   "source": [
    "# 테스트 데이터셋 로드\n",
    "tst_dataset = ImageDataset(\"data2/sample_submission.csv\", \"data2/test\", transform=tst_transform)\n",
    "tst_loader = DataLoader(tst_dataset, batch_size=BATCH_SIZE, shuffle=False, num_workers=num_workers)\n",
    "\n",
    "# 베스트 모델 로드\n",
    "model.load_state_dict(torch.load(\"./model_resnet50_best.pt\"))  # 저장한 모델 로드\n",
    "model.to(device)  # 모델을 장치로 이동\n",
    "\n",
    "# 예측 리스트 초기화\n",
    "preds_list = []\n",
    "\n",
    "# 모델을 평가 모드로 설정\n",
    "model.eval()\n",
    "for image, _ in tqdm(tst_loader):\n",
    "    image = image.to(device)\n",
    "\n",
    "    with torch.no_grad():\n",
    "        preds = model(image)\n",
    "\n",
    "    preds_list.extend(preds.argmax(dim=1).detach().cpu().numpy())\n",
    "\n",
    "# 결과 DataFrame 생성\n",
    "pred_df = pd.DataFrame(tst_dataset.df, columns=['ID', 'target'])\n",
    "pred_df['target'] = preds_list\n",
    "\n",
    "# 샘플 제출 파일 로드 및 확인\n",
    "sample_submission_df = pd.read_csv(\"data2/sample_submission.csv\")\n",
    "assert (sample_submission_df['ID'] == pred_df['ID']).all()\n",
    "\n",
    "# 예측 결과를 CSV 파일로 저장\n",
    "pred_df.to_csv(\"pred_r50_best.csv\", index=False)"
   ]
  },
  {
   "cell_type": "code",
   "execution_count": 10,
   "metadata": {},
   "outputs": [
    {
     "name": "stderr",
     "output_type": "stream",
     "text": [
      "100%|██████████| 99/99 [00:12<00:00,  7.69it/s]\n"
     ]
    }
   ],
   "source": [
    "# 테스트 데이터셋 로드\n",
    "tst_dataset = ImageDataset(\"data2/sample_submission.csv\", \"data2/test\", transform=tst_transform)\n",
    "tst_loader = DataLoader(tst_dataset, batch_size=BATCH_SIZE, shuffle=False, num_workers=num_workers)\n",
    "\n",
    "# 베스트 모델 로드\n",
    "model.load_state_dict(torch.load(\"./model_resnet50_last.pt\"))  # 저장한 모델 로드\n",
    "model.to(device)  # 모델을 장치로 이동\n",
    "\n",
    "# 예측 리스트 초기화\n",
    "preds_list = []\n",
    "\n",
    "# 모델을 평가 모드로 설정\n",
    "model.eval()\n",
    "for image, _ in tqdm(tst_loader):\n",
    "    image = image.to(device)\n",
    "\n",
    "    with torch.no_grad():\n",
    "        preds = model(image)\n",
    "\n",
    "    preds_list.extend(preds.argmax(dim=1).detach().cpu().numpy())\n",
    "\n",
    "# 결과 DataFrame 생성\n",
    "pred_df = pd.DataFrame(tst_dataset.df, columns=['ID', 'target'])\n",
    "pred_df['target'] = preds_list\n",
    "\n",
    "# 샘플 제출 파일 로드 및 확인\n",
    "sample_submission_df = pd.read_csv(\"data2/sample_submission.csv\")\n",
    "assert (sample_submission_df['ID'] == pred_df['ID']).all()\n",
    "\n",
    "# 예측 결과를 CSV 파일로 저장\n",
    "pred_df.to_csv(\"pred_r50_last.csv\", index=False)"
   ]
  }
 ],
 "metadata": {
  "kernelspec": {
   "display_name": "base",
   "language": "python",
   "name": "python3"
  },
  "language_info": {
   "codemirror_mode": {
    "name": "ipython",
    "version": 3
   },
   "file_extension": ".py",
   "mimetype": "text/x-python",
   "name": "python",
   "nbconvert_exporter": "python",
   "pygments_lexer": "ipython3",
   "version": "3.10.13"
  }
 },
 "nbformat": 4,
 "nbformat_minor": 2
}
