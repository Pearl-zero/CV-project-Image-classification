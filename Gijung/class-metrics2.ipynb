{
 "cells": [
  {
   "cell_type": "code",
   "execution_count": 17,
   "metadata": {},
   "outputs": [],
   "source": [
    "import os\n",
    "import time\n",
    "import random\n",
    "import optuna\n",
    "import timm\n",
    "import torch\n",
    "import albumentations as A\n",
    "import pandas as pd\n",
    "import numpy as np\n",
    "import torch.nn as nn\n",
    "from albumentations.pytorch import ToTensorV2\n",
    "from torch.optim import Adam\n",
    "from torch.utils.data import Dataset, DataLoader, Subset, ConcatDataset\n",
    "from PIL import Image\n",
    "from tqdm import tqdm\n",
    "from sklearn.metrics import accuracy_score, f1_score\n",
    "from sklearn.model_selection import StratifiedKFold\n",
    "from sklearn.metrics import confusion_matrix\n",
    "\n",
    "import cv2\n",
    "import json\n",
    "import gc \n",
    "from datetime import datetime\n",
    "import seaborn as sns\n",
    "import matplotlib.pyplot as plt\n",
    "\n",
    "\n",
    "# 시드 고정\n",
    "def set_seed(SEED=42):\n",
    "    os.environ['PYTHONHASHSEED'] = str(SEED)\n",
    "    random.seed(SEED)\n",
    "    np.random.seed(SEED)\n",
    "    torch.manual_seed(SEED)\n",
    "    torch.cuda.manual_seed(SEED)\n",
    "    torch.cuda.manual_seed_all(SEED)\n",
    "    torch.backends.cudnn.benchmark = True\n",
    "\n",
    "train_img_path = \"../data/train_enhanced/\"\n",
    "train_csv_path = \"../data/train2.csv\"\n",
    "\n",
    "test_img_path = \"../data/test_enhanced/\"\n",
    "sample_path = \"../data/sample_submission.csv\"\n",
    "\n",
    "\n",
    "\n",
    "# 데이터셋 클래스 정의\n",
    "class ImageDataset(Dataset):\n",
    "    def __init__(self, data, path, transform=None):\n",
    "        \"\"\"\n",
    "        Args:\n",
    "            data: DataFrame 또는 CSV 파일 경로\n",
    "            path: 이미지 파일들이 있는 디렉토리 경로\n",
    "            transform: 이미지 변환 함수\n",
    "        \"\"\"\n",
    "        if isinstance(data, str):\n",
    "            self.df = pd.read_csv(data).values\n",
    "        else:\n",
    "            self.df = data.values\n",
    "            \n",
    "        self.path = path\n",
    "        self.transform = transform\n",
    "\n",
    "    def __len__(self):\n",
    "        return len(self.df)\n",
    "\n",
    "    def __getitem__(self, idx):\n",
    "        name, target = self.df[idx]\n",
    "        img = np.array(Image.open(os.path.join(self.path, name)))\n",
    "        \n",
    "        # RGB가 아닌 이미지 처리\n",
    "        if len(img.shape) == 2:\n",
    "            img = np.stack([img] * 3, axis=-1)\n",
    "        elif img.shape[2] == 4:\n",
    "            img = img[:, :, :3]\n",
    "            \n",
    "        if self.transform:\n",
    "            img = self.transform(image=img)['image']\n",
    "        return img, target\n",
    "\n",
    "def get_transforms(img_size):\n",
    "    trn_transform = A.Compose([\n",
    "        # A.OneOf([\n",
    "        # A.GridDistortion(num_steps=5, distort_limit=0.3, interpolation=1, border_mode=4, value=None, mask_value=None, always_apply=True, p=1),\n",
    "        # A.ElasticTransform(always_apply=True, p=1, alpha=1.0, sigma=50.0, alpha_affine=50.0, interpolation=0, border_mode=1, value=(0, 0, 0), mask_value=None, approximate=False),\n",
    "        # A.OpticalDistortion(always_apply=True, p=1, distort_limit=(-0.3, -0.1)),\n",
    "        # A.OpticalDistortion(always_apply=True, p=1, distort_limit=(0.1, 0.3)),\n",
    "        # ], p=0.85),\n",
    "        # A.SomeOf([\n",
    "        #     A.RandomBrightnessContrast(brightness_limit=(-0.2, 0.2), contrast_limit=(-0.2, 0.2), p=1),\n",
    "        #     A.HueSaturationValue(hue_shift_limit=15, sat_shift_limit=25, val_shift_limit=20, p=1),\n",
    "        #     A.MultiplicativeNoise(p=1, multiplier=(1, 1.5), per_channel=True),\n",
    "        #     A.Equalize(p=1, mode='cv', by_channels=True),\n",
    "        # ], n=2, p=0.85),\n",
    "        A.OneOf([\n",
    "            A.Rotate(limit=(10, 30), border_mode=cv2.BORDER_CONSTANT, p=1),\n",
    "            A.Rotate(limit=(150, 170), border_mode=cv2.BORDER_CONSTANT, p=1),\n",
    "            A.Rotate(limit=(190, 210), border_mode=cv2.BORDER_CONSTANT, p=1),\n",
    "            A.Rotate(limit=(330, 350), border_mode=cv2.BORDER_CONSTANT, p=1),\n",
    "        ], p=1),\n",
    "        # A.CoarseDropout(p=0.5, max_holes=40, max_height=15, max_width=15, min_holes=8, min_height=8, min_width=8),\n",
    "        # A.Equalize(p=0.5, mode='cv', by_channels=True),\n",
    "        # A.OneOf([\n",
    "        #     A.Blur(blur_limit=(3, 4), p=1),\n",
    "        #     A.MotionBlur(blur_limit=(3, 5), p=1),\n",
    "        #     A.Downscale(scale_min=0.455, scale_max=0.5, interpolation=2, p=1),\n",
    "        # ], p=0.5),\n",
    "        # A.GaussNoise(var_limit=(100, 800), per_channel=True, p=0.5),\n",
    "        A.RandomRotate90(p=0.4),\n",
    "        A.HorizontalFlip(p=0.4), \n",
    "        A.VerticalFlip(p=0.4),\n",
    "        # A.CLAHE(p=0.5),\n",
    "        # A.MotionBlur(p=0.2),\n",
    "        # A.RandomBrightnessContrast(p=0.2),\n",
    "        A.Resize(height=img_size, width=img_size),\n",
    "        A.Normalize(mean=[0.485, 0.456, 0.406], std=[0.229, 0.224, 0.225]),\n",
    "        ToTensorV2(),\n",
    "    ])\n",
    "\n",
    "    tst_transform = A.Compose([\n",
    "        A.Resize(height=img_size, width=img_size),\n",
    "        A.Normalize(mean=[0.485, 0.456, 0.406], std=[0.229, 0.224, 0.225]),\n",
    "        ToTensorV2(),\n",
    "    ])\n",
    "    \n",
    "    return trn_transform, tst_transform\n",
    "\n",
    "\n",
    "def load_multiple_datasets(csv_paths, img_paths, transform=None):\n",
    "    \"\"\"\n",
    "    여러 CSV 파일과 이미지 폴더들을 하나의 데이터셋으로 통합\n",
    "    \n",
    "    Args:\n",
    "        csv_paths (list): CSV 파일 경로들의 리스트\n",
    "        img_paths (list): 이미지 폴더 경로들의 리스트\n",
    "        transform: 이미지 변환을 위한 transform 함수\n",
    "    \"\"\"\n",
    "    if len(csv_paths) != len(img_paths):\n",
    "        raise ValueError(\"CSV 파일 개수와 이미지 폴더 개수가 일치해야 합니다.\")\n",
    "    \n",
    "    # 각 소스별로 데이터셋 생성\n",
    "    datasets = []\n",
    "    for csv_path, img_path in zip(csv_paths, img_paths):\n",
    "        dataset = ImageDataset(csv_path, img_path, transform=transform)\n",
    "        datasets.append(dataset)\n",
    "    \n",
    "    # 모든 데이터셋 통합\n",
    "    combined_dataset = ConcatDataset(datasets)\n",
    "    return combined_dataset\n",
    "\n",
    "\n",
    "\n",
    "\n",
    "\n",
    "\n",
    "def calculate_class_metrics(y_true, y_pred, num_classes=17):\n",
    "    \"\"\"각 클래스별 accuracy와 f1 score를 계산\"\"\"\n",
    "    class_metrics = {}\n",
    "    \n",
    "    for class_idx in range(num_classes):\n",
    "        # 해당 클래스에 대한 이진 레이블 생성\n",
    "        y_true_binary = (y_true == class_idx)\n",
    "        y_pred_binary = (y_pred == class_idx)\n",
    "        \n",
    "        # 클래스별 metrics 계산\n",
    "        class_acc = accuracy_score(y_true_binary, y_pred_binary)\n",
    "        class_f1 = f1_score(y_true_binary, y_pred_binary, average='binary')\n",
    "        support = np.sum(y_true_binary)\n",
    "        \n",
    "        class_metrics[f'class_{class_idx}'] = {\n",
    "            'accuracy': class_acc,\n",
    "            'f1_score': class_f1,\n",
    "            'support': support\n",
    "        }\n",
    "        \n",
    "    # 전체 metrics\n",
    "    overall_acc = accuracy_score(y_true, y_pred)\n",
    "    overall_f1 = f1_score(y_true, y_pred, average='macro')\n",
    "    \n",
    "    class_metrics['overall'] = {\n",
    "        'accuracy': overall_acc,\n",
    "        'f1_score': overall_f1\n",
    "    }\n",
    "    \n",
    "    return class_metrics    \n",
    "        \n",
    "        \n",
    "        \n",
    "def train_one_epoch(loader, model, optimizer, loss_fn, device):\n",
    "    model.train()\n",
    "    train_loss = 0\n",
    "    preds_list = []\n",
    "    targets_list = []\n",
    "\n",
    "    pbar = tqdm(loader, leave=False)\n",
    "    for image, targets in pbar:\n",
    "        image = image.to(device)\n",
    "        targets = targets.to(device)\n",
    "\n",
    "        model.zero_grad(set_to_none=True)\n",
    "        preds = model(image)\n",
    "        loss = loss_fn(preds, targets)\n",
    "        loss.backward()\n",
    "        optimizer.step()\n",
    "\n",
    "        train_loss += loss.item()\n",
    "        preds_list.extend(preds.argmax(dim=1).detach().cpu().numpy())\n",
    "        targets_list.extend(targets.detach().cpu().numpy())\n",
    "        pbar.set_description(f\"Loss: {loss.item():.4f}\")\n",
    "\n",
    "    train_loss /= len(loader)\n",
    "    train_acc = accuracy_score(targets_list, preds_list)\n",
    "    train_f1 = f1_score(targets_list, preds_list, average='macro')\n",
    "\n",
    "    return {\n",
    "        \"loss\": train_loss,\n",
    "        \"acc\": train_acc,\n",
    "        \"f1\": train_f1,\n",
    "    }\n",
    "\n",
    "def valid_one_epoch(loader, model, loss_fn, device):\n",
    "    model.eval()\n",
    "    valid_loss = 0\n",
    "    preds_list = []\n",
    "    targets_list = []\n",
    "\n",
    "    with torch.no_grad():\n",
    "        for image, targets in loader:\n",
    "            image = image.to(device)\n",
    "            targets = targets.to(device)\n",
    "\n",
    "            preds = model(image)\n",
    "            loss = loss_fn(preds, targets)\n",
    "\n",
    "            valid_loss += loss.item()\n",
    "            preds_list.extend(preds.argmax(dim=1).detach().cpu().numpy())\n",
    "            targets_list.extend(targets.detach().cpu().numpy())\n",
    "\n",
    "    valid_loss /= len(loader)\n",
    "    \n",
    "    # Confusion Matrix 계산\n",
    "    conf_matrix = confusion_matrix(targets_list, preds_list)\n",
    "    metrics = calculate_class_metrics(np.array(targets_list), np.array(preds_list))\n",
    "\n",
    "    return {\n",
    "        \"loss\": valid_loss,\n",
    "        \"metrics\": metrics,\n",
    "        \"confusion_matrix\": conf_matrix  # confusion matrix 추가\n",
    "    }\n",
    "\n",
    "\n",
    "\n",
    "\n",
    "def evaluate_best_params(params, device):\n",
    "    \"\"\"베스트 파라미터로 k-fold 검증 수행\"\"\"\n",
    "    print(\"\\nEvaluating best parameters with k-fold validation...\")\n",
    "    \n",
    "    if params['model_name'] == \"swinv2_tiny_window8_256\":\n",
    "        img_size = 256\n",
    "    elif params['model_name'] == \"tf_efficientnet_b3.ns_jft_in1k\":\n",
    "        img_size = 300\n",
    "    elif params['model_name'] == \"eva02_base_patch14_448.mim_in22k_ft_in22k_in1k\":\n",
    "        img_size = 448\n",
    "        \n",
    "    trn_transform, _ = get_transforms(img_size)\n",
    "    \n",
    "    # -----------------------------------------------------------------------------\n",
    "    # K-fold 검증 준비\n",
    "    n_splits = 5\n",
    "    skf = StratifiedKFold(n_splits=n_splits, shuffle=True, random_state=42)\n",
    "    \n",
    "    # 전체 데이터셋 로드\n",
    "    full_dataset = ImageDataset(train_csv_path, train_img_path, transform=trn_transform)\n",
    "    \n",
    "    # 데이터와 라벨 분리\n",
    "    data = pd.read_csv(train_csv_path)\n",
    "    X = np.arange(len(data))\n",
    "    y = data['target'].values\n",
    "    \n",
    "    # 각 fold의 결과를 저장할 리스트\n",
    "    fold_results = []\n",
    "    all_confusion_matrices = []  # confusion matrix 저장용 리스트 추가\n",
    "    \n",
    "    \n",
    "    \n",
    "    # K-fold 교차 검증\n",
    "    for fold, (train_idx, val_idx) in enumerate(skf.split(X, y), 1):\n",
    "        print(f\"\\n{'='*20} Fold {fold} {'='*20}\")\n",
    "        \n",
    "        # 데이터셋 분할\n",
    "        train_dataset = Subset(full_dataset, train_idx)\n",
    "        val_dataset = Subset(full_dataset, val_idx)\n",
    "        \n",
    "        train_loader = DataLoader(\n",
    "            train_dataset,\n",
    "            batch_size=params['batch_size'],\n",
    "            shuffle=True,\n",
    "            num_workers=4,\n",
    "            pin_memory=True\n",
    "        )\n",
    "        \n",
    "        val_loader = DataLoader(\n",
    "            val_dataset,\n",
    "            batch_size=params['batch_size'],\n",
    "            shuffle=False,\n",
    "            num_workers=4,\n",
    "            pin_memory=True\n",
    "        )\n",
    "        \n",
    "        # 모델 설정\n",
    "        model = timm.create_model(\n",
    "            params['model_name'],\n",
    "            pretrained=True,\n",
    "            num_classes=17\n",
    "        ).to(device)\n",
    "        \n",
    "        optimizer_class = getattr(torch.optim, params['optimizer'])\n",
    "        optimizer = optimizer_class(model.parameters(), \n",
    "                                  lr=params['lr'], \n",
    "                                  weight_decay=params['weight_decay'])\n",
    "        \n",
    "        loss_fn = nn.CrossEntropyLoss()\n",
    "        \n",
    "        # -----------------------------------------------------------------------------\n",
    "        best_val_f1 = 0\n",
    "        best_epoch_metrics = None\n",
    "        patience = 5\n",
    "        patience_counter = 0\n",
    "        EPOCH = 3\n",
    "        \n",
    "        # 학습\n",
    "        for epoch in range(EPOCH):\n",
    "            train_ret = train_one_epoch(train_loader, model, optimizer, loss_fn, device)\n",
    "            val_ret = valid_one_epoch(val_loader, model, loss_fn, device)\n",
    "            \n",
    "            current_val_f1 = val_ret['metrics']['overall']['f1_score']\n",
    "            \n",
    "            if current_val_f1 > best_val_f1:\n",
    "                best_val_f1 = current_val_f1\n",
    "                best_epoch_metrics = val_ret['metrics']\n",
    "                best_confusion_matrix = val_ret['confusion_matrix']  # 최고 성능 모델의 confusion matrix 저장\n",
    "                patience_counter = 0\n",
    "            else:\n",
    "                patience_counter += 1\n",
    "            \n",
    "            if not epoch % 5:\n",
    "                print(f\"Epoch {epoch+1}: Val F1 = {current_val_f1:.4f}\")\n",
    "            \n",
    "            if patience_counter >= patience:\n",
    "                print(\"Early stopping!\")\n",
    "                break\n",
    "            \n",
    "                    \n",
    "        \n",
    "        # 현재 fold의 best 결과 출력\n",
    "        # print(f\"\\nBest Results for Fold {fold}:\")\n",
    "        # print(\"\\nClass-wise Metrics:\")\n",
    "        # for class_idx in range(17):\n",
    "        #     metrics = best_epoch_metrics[f'class_{class_idx}']\n",
    "        #     print(f\"\\nClass {class_idx}:\")\n",
    "        #     print(f\"Accuracy: {metrics['accuracy']:.4f}\")\n",
    "        #     print(f\"F1 Score: {metrics['f1_score']:.4f}\")\n",
    "        #     print(f\"Support: {metrics['support']}\")\n",
    "        \n",
    "        # 현재 fold의 confusion matrix 출력\n",
    "        # print(f\"\\nConfusion Matrix for Fold {fold}:\")\n",
    "        # print(best_confusion_matrix)\n",
    "        \n",
    "        # fold 결과 저장\n",
    "        fold_results.append({\n",
    "            'fold': fold,\n",
    "            'metrics': best_epoch_metrics\n",
    "        })\n",
    "        \n",
    "        all_confusion_matrices.append(best_confusion_matrix)\n",
    "    \n",
    "    # 모든 fold의 평균 성능 계산 및 출력\n",
    "    print(\"\\n\" + \"=\"*50)\n",
    "    print(\"Average Performance Across All Folds:\")\n",
    "\n",
    "    \n",
    "    \n",
    "    # 클래스별 평균 성능\n",
    "    class_avg_metrics = {}\n",
    "    # for class_idx in range(17):\n",
    "    #     accuracies = [fold['metrics'][f'class_{class_idx}']['accuracy'] for fold in fold_results]\n",
    "    #     f1_scores = [fold['metrics'][f'class_{class_idx}']['f1_score'] for fold in fold_results]\n",
    "        \n",
    "    #     avg_acc = np.mean(accuracies)\n",
    "    #     avg_f1 = np.mean(f1_scores)\n",
    "    #     std_acc = np.std(accuracies)\n",
    "    #     std_f1 = np.std(f1_scores)\n",
    "        \n",
    "    #     print(f\"\\nClass {class_idx}:\")\n",
    "    #     print(f\"Accuracy: {avg_acc:.4f} (±{std_acc:.4f})\")\n",
    "    #     print(f\"F1 Score: {avg_f1:.4f} (±{std_f1:.4f})\")\n",
    "    \n",
    "    # 결과를 DataFrame으로 저장\n",
    "    results_dict = {\n",
    "        'fold': [],\n",
    "        'class': [],\n",
    "        'accuracy': [],\n",
    "        'f1_score': [],\n",
    "        'support': []\n",
    "    }\n",
    "    \n",
    "    for fold_result in fold_results:\n",
    "        fold_num = fold_result['fold']\n",
    "        metrics = fold_result['metrics']\n",
    "        \n",
    "        for class_idx in range(17):\n",
    "            class_metrics = metrics[f'class_{class_idx}']\n",
    "            results_dict['fold'].append(fold_num)\n",
    "            results_dict['class'].append(class_idx)\n",
    "            results_dict['accuracy'].append(class_metrics['accuracy'])\n",
    "            results_dict['f1_score'].append(class_metrics['f1_score'])\n",
    "            results_dict['support'].append(class_metrics['support'])\n",
    "    \n",
    "    results_df = pd.DataFrame(results_dict)\n",
    "    now = datetime.now()\n",
    "    results_df.to_csv(f'best_params_fold_class_metrics_{now.month:02}{now.day:02}{now.hour:02}{now.minute:02}.csv', index=False)\n",
    "    print(\"\\nDetailed metrics saved to 'best_params_fold_class_metrics.csv'\")\n",
    "    \n",
    "    \n",
    "    \n",
    "    # 모든 fold의 confusion matrix 평균 계산\n",
    "    avg_confusion_matrix = np.mean(all_confusion_matrices, axis=0)\n",
    "    std_confusion_matrix = np.std(all_confusion_matrices, axis=0)\n",
    "    \n",
    "    # 평균 Confusion Matrix 시각화\n",
    "    plt.figure(figsize=(15, 6))\n",
    "    \n",
    "    # 평균 Confusion Matrix\n",
    "    plt.subplot(1, 2, 1)\n",
    "    sns.heatmap(avg_confusion_matrix, annot=True, fmt='.1f', cmap='Blues')\n",
    "    plt.title('Average Confusion Matrix Across All Folds')\n",
    "    plt.ylabel('True Label')\n",
    "    plt.xlabel('Predicted Label')\n",
    "    \n",
    "    # 표준편차 Confusion Matrix\n",
    "    plt.subplot(1, 2, 2)\n",
    "    sns.heatmap(std_confusion_matrix, annot=True, fmt='.2f', cmap='Reds')\n",
    "    plt.title('Standard Deviation of Confusion Matrix Across All Folds')\n",
    "    plt.ylabel('True Label')\n",
    "    plt.xlabel('Predicted Label')\n",
    "    \n",
    "    # 저장\n",
    "    plt.savefig(f'confusion_matrix_average_{now.month:02}{now.day:02}{now.hour:02}{now.minute:02}.png')\n",
    "    plt.close()\n",
    "    \n",
    "    # print(\"\\nAverage Confusion Matrix Across All Folds:\")\n",
    "    # print(avg_confusion_matrix)\n",
    "    # print(\"\\nStandard Deviation of Confusion Matrix Across All Folds:\")\n",
    "    # print(std_confusion_matrix)\n",
    "    \n",
    "    return fold_results\n",
    "\n",
    "\n",
    "\n",
    "def generate_pseudo_labels(model, loader, device):\n",
    "    model.eval()\n",
    "    pseudo_labels = []\n",
    "    confidences = []\n",
    "    \n",
    "    with torch.no_grad():\n",
    "        for image, _ in tqdm(loader, desc=\"Generating pseudo labels\"):\n",
    "            image = image.to(device)\n",
    "            outputs = model(image)\n",
    "            probs = torch.softmax(outputs, dim=1)\n",
    "            conf, preds = torch.max(probs, dim=1)\n",
    "            pseudo_labels.extend(preds.cpu().numpy())\n",
    "            confidences.extend(conf.cpu().numpy())\n",
    "            \n",
    "    return np.array(pseudo_labels), np.array(confidences)\n",
    "\n",
    "def objective(trial , device):\n",
    "    try:\n",
    "        \n",
    "        print(f\"GPU Memory before trial: {torch.cuda.memory_allocated(device)/(1024**2):.2f}MB\")\n",
    "        # 하이퍼파라미터 탐색 공간 정의\n",
    "        params = {\n",
    "            # 'model_name': trial.suggest_categorical('model_name', ['swinv2_tiny_window8_256', 'tf_efficientnet_b3.ns_jft_in1k', 'resnet18', 'eva02_base_patch14_448.mim_in22k_ft_in22k_in1k']),\n",
    "            'model_name': trial.suggest_categorical('model_name', ['eva02_base_patch14_448.mim_in22k_ft_in22k_in1k']),\n",
    "            # 'img_size': trial.suggest_categorical('img_size', [256]),\n",
    "            'batch_size': trial.suggest_categorical('batch_size', [16]),\n",
    "            'lr': trial.suggest_float('lr', 1e-4, 1e-3, log=True),\n",
    "            'weight_decay' : trial.suggest_float('weight_decay', 1e-5, 1e-2, log=True),\n",
    "            'dropout_rate' : trial.suggest_float('dropout_rate', 0.0, 0.3),\n",
    "            'optimizer': trial.suggest_categorical('optimizer', ['Adam', 'AdamW']),\n",
    "        }\n",
    "    \n",
    "        \n",
    "        # 모델 선택 및 입력 이미지 크기 설정\n",
    "        if params['model_name'] == \"swinv2_tiny_window8_256\":\n",
    "            params['img_size'] = 256\n",
    "        elif params['model_name'] == \"tf_efficientnet_b3.ns_jft_in1k\":\n",
    "            params['img_size'] = 300\n",
    "        elif params['model_name'] == \"eva02_base_patch14_448.mim_in22k_ft_in22k_in1k\":\n",
    "            params['img_size'] = 448\n",
    "            \n",
    "        # 데이터셋 준비\n",
    "        trn_transform, val_transform = get_transforms(params['img_size'])\n",
    "        \n",
    "        # -----------------------------------------------------------------------------\n",
    "        # K-fold 검증 준비\n",
    "        n_splits = 5\n",
    "        skf = StratifiedKFold(n_splits=n_splits, shuffle=True, random_state=42)\n",
    "        \n",
    "        # 전체 데이터셋 로드\n",
    "        full_dataset = ImageDataset(train_csv_path, train_img_path, transform=trn_transform)\n",
    "        \n",
    "        # 데이터와 라벨 분리\n",
    "        data = pd.read_csv(train_csv_path)\n",
    "        X = np.arange(len(data))\n",
    "        y = data['target'].values\n",
    "        \n",
    "        fold_scores = []\n",
    "        \n",
    "        # K-fold 교차 검증\n",
    "        for fold, (train_idx, val_idx) in enumerate(skf.split(X, y), 1):\n",
    "            print(f\"\\nFold {fold}\")\n",
    "            \n",
    "            # 데이터셋 분할\n",
    "            train_dataset = Subset(full_dataset, train_idx)\n",
    "            val_dataset = Subset(full_dataset, val_idx)\n",
    "            \n",
    "            train_loader = DataLoader(\n",
    "                train_dataset,\n",
    "                batch_size=params['batch_size'],\n",
    "                shuffle=True,\n",
    "                num_workers=4,\n",
    "                pin_memory=True\n",
    "            )\n",
    "            \n",
    "            val_loader = DataLoader(\n",
    "                val_dataset,\n",
    "                batch_size=params['batch_size'],\n",
    "                shuffle=False,\n",
    "                num_workers=4,\n",
    "                pin_memory=True\n",
    "            )\n",
    "            \n",
    "            # 모델 설정\n",
    "            model = timm.create_model(\n",
    "                params['model_name'],\n",
    "                pretrained=True,\n",
    "                num_classes=17\n",
    "            ).to(device)\n",
    "            \n",
    "            # Optimizer 설정\n",
    "            optimizer_class = getattr(torch.optim, params['optimizer'])\n",
    "            optimizer = optimizer_class(model.parameters(), lr=params['lr'])\n",
    "            \n",
    "            loss_fn = nn.CrossEntropyLoss()\n",
    "            \n",
    "            # -----------------------------------------------------------------------------\n",
    "            best_val_f1 = 0\n",
    "            patience = 5\n",
    "            patience_counter = 0\n",
    "            EPOCH = 5\n",
    "            \n",
    "            # 학습\n",
    "            for epoch in range(EPOCH):\n",
    "                train_ret = train_one_epoch(train_loader, model, optimizer, loss_fn, device)\n",
    "                val_ret = valid_one_epoch(val_loader, model, loss_fn, device)\n",
    "                current_val_f1 = val_ret['metrics']['overall']['f1_score']\n",
    "                \n",
    "                    \n",
    "                if not epoch % 10:\n",
    "                    print(f\"Epoch {epoch+1}: Train F1 = {train_ret['f1']:.4f}, Val F1 = {current_val_f1:.4f}\")\n",
    "                \n",
    "                if current_val_f1 > best_val_f1:\n",
    "                    best_val_f1 = current_val_f1\n",
    "                    patience_counter = 0\n",
    "                else:\n",
    "                    patience_counter += 1\n",
    "                    \n",
    "                if patience_counter >= patience:\n",
    "                    print(\"Early stopping!\")\n",
    "                    break\n",
    "                \n",
    "                if current_val_f1 < 0.5:\n",
    "                    print(\"Early stopping!\")\n",
    "                    break\n",
    "         \n",
    "            fold_scores.append(best_val_f1)\n",
    "            \n",
    "        print(f\"GPU Memory after trial: {torch.cuda.memory_allocated(device)/(1024**2):.2f}MB\")    \n",
    "        \n",
    "        mean_f1 = np.mean(fold_scores)\n",
    "        return mean_f1\n",
    "    \n",
    "    finally:\n",
    "        torch.cuda.empty_cache()\n",
    "        gc.collect()\n",
    "        \n",
    "        \n",
    "        \n",
    "        "
   ]
  },
  {
   "cell_type": "code",
   "execution_count": 10,
   "metadata": {},
   "outputs": [],
   "source": [
    "\n",
    "set_seed()\n",
    "device = torch.device('cuda' if torch.cuda.is_available() else 'cpu')\n",
    "if device==\"cuda\": torch.cuda.empty_cache()"
   ]
  },
  {
   "cell_type": "code",
   "execution_count": 4,
   "metadata": {},
   "outputs": [
    {
     "name": "stderr",
     "output_type": "stream",
     "text": [
      "/tmp/ipykernel_1416/1499754699.py:5: FutureWarning: JournalFileStorage has been deprecated in v4.0.0. This feature will be removed in v6.0.0. See https://github.com/optuna/optuna/releases/tag/v4.0.0. Use :class:`~optuna.storages.journal.JournalFileBackend` instead.\n",
      "  optuna.storages.JournalFileStorage(\"study.log\")  # 로그 파일로 저장\n",
      "[I 2024-11-06 06:24:07,136] A new study created in Journal with name: no-name-0b76a114-17df-45f9-9631-0782c62acc51\n"
     ]
    },
    {
     "name": "stderr",
     "output_type": "stream",
     "text": [
      "/opt/conda/lib/python3.10/site-packages/torch/functional.py:504: UserWarning: torch.meshgrid: in an upcoming release, it will be required to pass the indexing argument. (Triggered internally at /opt/conda/conda-bld/pytorch_1695392020201/work/aten/src/ATen/native/TensorShape.cpp:3526.)\n",
      "  return _VF.meshgrid(tensors, **kwargs)  # type: ignore[attr-defined]\n"
     ]
    },
    {
     "name": "stdout",
     "output_type": "stream",
     "text": [
      "GPU Memory before trial: 0.00MB\n",
      "\n",
      "Fold 1\n"
     ]
    },
    {
     "data": {
      "application/vnd.jupyter.widget-view+json": {
       "model_id": "8fc63b31b88c4a11b5baec7291023d9a",
       "version_major": 2,
       "version_minor": 0
      },
      "text/plain": [
       "model.safetensors:   0%|          | 0.00/348M [00:00<?, ?B/s]"
      ]
     },
     "metadata": {},
     "output_type": "display_data"
    },
    {
     "name": "stderr",
     "output_type": "stream",
     "text": [
      "                                                             \r"
     ]
    },
    {
     "name": "stdout",
     "output_type": "stream",
     "text": [
      "Epoch 1: Train F1 = 0.0738, Val F1 = 0.0201\n",
      "Early stopping!\n",
      "\n",
      "Fold 2\n"
     ]
    },
    {
     "name": "stderr",
     "output_type": "stream",
     "text": [
      "                                                             \r"
     ]
    },
    {
     "name": "stdout",
     "output_type": "stream",
     "text": [
      "Epoch 1: Train F1 = 0.0529, Val F1 = 0.0100\n",
      "Early stopping!\n",
      "\n",
      "Fold 3\n"
     ]
    },
    {
     "name": "stderr",
     "output_type": "stream",
     "text": [
      "                                                             \r"
     ]
    },
    {
     "name": "stdout",
     "output_type": "stream",
     "text": [
      "Epoch 1: Train F1 = 0.0613, Val F1 = 0.0526\n",
      "Early stopping!\n",
      "\n",
      "Fold 4\n"
     ]
    },
    {
     "name": "stderr",
     "output_type": "stream",
     "text": [
      "                                                             \r"
     ]
    },
    {
     "name": "stdout",
     "output_type": "stream",
     "text": [
      "Epoch 1: Train F1 = 0.0461, Val F1 = 0.0200\n",
      "Early stopping!\n",
      "\n",
      "Fold 5\n"
     ]
    },
    {
     "name": "stderr",
     "output_type": "stream",
     "text": [
      "[I 2024-11-06 06:31:08,123] Trial 0 finished with value: 0.024432351216131028 and parameters: {'model_name': 'eva02_base_patch14_448.mim_in22k_ft_in22k_in1k', 'batch_size': 16, 'lr': 0.0003519274600258364, 'weight_decay': 1.0210799054949983e-05, 'dropout_rate': 0.169394759656843, 'optimizer': 'Adam'}. Best is trial 0 with value: 0.024432351216131028.\n"
     ]
    },
    {
     "name": "stdout",
     "output_type": "stream",
     "text": [
      "Epoch 1: Train F1 = 0.0474, Val F1 = 0.0195\n",
      "Early stopping!\n",
      "GPU Memory after trial: 1340.11MB\n",
      "GPU Memory before trial: 16.25MB\n",
      "\n",
      "Fold 1\n"
     ]
    },
    {
     "name": "stderr",
     "output_type": "stream",
     "text": [
      "                                                             \r"
     ]
    },
    {
     "name": "stdout",
     "output_type": "stream",
     "text": [
      "Epoch 1: Train F1 = 0.3508, Val F1 = 0.4529\n",
      "Early stopping!\n",
      "\n",
      "Fold 2\n"
     ]
    },
    {
     "name": "stderr",
     "output_type": "stream",
     "text": [
      "                                                             \r"
     ]
    },
    {
     "name": "stdout",
     "output_type": "stream",
     "text": [
      "Epoch 1: Train F1 = 0.3774, Val F1 = 0.3722\n",
      "Early stopping!\n",
      "\n",
      "Fold 3\n"
     ]
    },
    {
     "name": "stderr",
     "output_type": "stream",
     "text": [
      "                                                             \r"
     ]
    },
    {
     "name": "stdout",
     "output_type": "stream",
     "text": [
      "Epoch 1: Train F1 = 0.3702, Val F1 = 0.3652\n",
      "Early stopping!\n",
      "\n",
      "Fold 4\n"
     ]
    },
    {
     "name": "stderr",
     "output_type": "stream",
     "text": [
      "                                                             \r"
     ]
    },
    {
     "name": "stdout",
     "output_type": "stream",
     "text": [
      "Epoch 1: Train F1 = 0.4090, Val F1 = 0.4069\n",
      "Early stopping!\n",
      "\n",
      "Fold 5\n"
     ]
    },
    {
     "name": "stderr",
     "output_type": "stream",
     "text": [
      "[I 2024-11-06 06:38:08,022] Trial 1 finished with value: 0.41407838636045496 and parameters: {'model_name': 'eva02_base_patch14_448.mim_in22k_ft_in22k_in1k', 'batch_size': 16, 'lr': 0.00010435467875841338, 'weight_decay': 1.7378270902418223e-05, 'dropout_rate': 0.12163479956275453, 'optimizer': 'Adam'}. Best is trial 1 with value: 0.41407838636045496.\n"
     ]
    },
    {
     "name": "stdout",
     "output_type": "stream",
     "text": [
      "Epoch 1: Train F1 = 0.4057, Val F1 = 0.4731\n",
      "Early stopping!\n",
      "GPU Memory after trial: 1342.82MB\n",
      "GPU Memory before trial: 16.25MB\n",
      "\n",
      "Fold 1\n"
     ]
    },
    {
     "name": "stderr",
     "output_type": "stream",
     "text": [
      "                                                             \r"
     ]
    },
    {
     "name": "stdout",
     "output_type": "stream",
     "text": [
      "Epoch 1: Train F1 = 0.0680, Val F1 = 0.0342\n",
      "Early stopping!\n",
      "\n",
      "Fold 2\n"
     ]
    },
    {
     "name": "stderr",
     "output_type": "stream",
     "text": [
      "                                                             \r"
     ]
    },
    {
     "name": "stdout",
     "output_type": "stream",
     "text": [
      "Epoch 1: Train F1 = 0.0561, Val F1 = 0.0428\n",
      "Early stopping!\n",
      "\n",
      "Fold 3\n"
     ]
    },
    {
     "name": "stderr",
     "output_type": "stream",
     "text": [
      "                                                             \r"
     ]
    },
    {
     "name": "stdout",
     "output_type": "stream",
     "text": [
      "Epoch 1: Train F1 = 0.0592, Val F1 = 0.0494\n",
      "Early stopping!\n",
      "\n",
      "Fold 4\n"
     ]
    },
    {
     "name": "stderr",
     "output_type": "stream",
     "text": [
      "                                                             \r"
     ]
    },
    {
     "name": "stdout",
     "output_type": "stream",
     "text": [
      "Epoch 1: Train F1 = 0.0640, Val F1 = 0.0367\n",
      "Early stopping!\n",
      "\n",
      "Fold 5\n"
     ]
    },
    {
     "name": "stderr",
     "output_type": "stream",
     "text": [
      "[I 2024-11-06 06:45:06,004] Trial 2 finished with value: 0.038048648077963 and parameters: {'model_name': 'eva02_base_patch14_448.mim_in22k_ft_in22k_in1k', 'batch_size': 16, 'lr': 0.00044628104808819427, 'weight_decay': 3.2926528057988344e-05, 'dropout_rate': 0.15291435244711374, 'optimizer': 'AdamW'}. Best is trial 1 with value: 0.41407838636045496.\n"
     ]
    },
    {
     "name": "stdout",
     "output_type": "stream",
     "text": [
      "Epoch 1: Train F1 = 0.0662, Val F1 = 0.0272\n",
      "Early stopping!\n",
      "GPU Memory after trial: 1345.57MB\n",
      "GPU Memory before trial: 16.25MB\n",
      "\n",
      "Fold 1\n"
     ]
    },
    {
     "name": "stderr",
     "output_type": "stream",
     "text": [
      "                                                             \r"
     ]
    },
    {
     "name": "stdout",
     "output_type": "stream",
     "text": [
      "Epoch 1: Train F1 = 0.0467, Val F1 = 0.0342\n",
      "Early stopping!\n",
      "\n",
      "Fold 2\n"
     ]
    },
    {
     "name": "stderr",
     "output_type": "stream",
     "text": [
      "                                                             \r"
     ]
    },
    {
     "name": "stdout",
     "output_type": "stream",
     "text": [
      "Epoch 1: Train F1 = 0.0605, Val F1 = 0.0342\n",
      "Early stopping!\n",
      "\n",
      "Fold 3\n"
     ]
    },
    {
     "name": "stderr",
     "output_type": "stream",
     "text": [
      "                                                             \r"
     ]
    },
    {
     "name": "stdout",
     "output_type": "stream",
     "text": [
      "Epoch 1: Train F1 = 0.0617, Val F1 = 0.0259\n",
      "Early stopping!\n",
      "\n",
      "Fold 4\n"
     ]
    },
    {
     "name": "stderr",
     "output_type": "stream",
     "text": [
      "                                                             \r"
     ]
    },
    {
     "name": "stdout",
     "output_type": "stream",
     "text": [
      "Epoch 1: Train F1 = 0.0615, Val F1 = 0.0268\n",
      "Early stopping!\n",
      "\n",
      "Fold 5\n"
     ]
    },
    {
     "name": "stderr",
     "output_type": "stream",
     "text": [
      "[I 2024-11-06 06:52:03,755] Trial 3 finished with value: 0.030118737797120078 and parameters: {'model_name': 'eva02_base_patch14_448.mim_in22k_ft_in22k_in1k', 'batch_size': 16, 'lr': 0.0005761572083598188, 'weight_decay': 0.004326046564102307, 'dropout_rate': 0.09579305643744337, 'optimizer': 'Adam'}. Best is trial 1 with value: 0.41407838636045496.\n"
     ]
    },
    {
     "name": "stdout",
     "output_type": "stream",
     "text": [
      "Epoch 1: Train F1 = 0.0611, Val F1 = 0.0296\n",
      "Early stopping!\n",
      "GPU Memory after trial: 1344.64MB\n",
      "GPU Memory before trial: 16.25MB\n",
      "\n",
      "Fold 1\n"
     ]
    },
    {
     "name": "stderr",
     "output_type": "stream",
     "text": [
      "                                                             \r"
     ]
    },
    {
     "name": "stdout",
     "output_type": "stream",
     "text": [
      "Epoch 1: Train F1 = 0.3516, Val F1 = 0.4661\n",
      "Early stopping!\n",
      "\n",
      "Fold 2\n"
     ]
    },
    {
     "name": "stderr",
     "output_type": "stream",
     "text": [
      "                                                             \r"
     ]
    },
    {
     "name": "stdout",
     "output_type": "stream",
     "text": [
      "Epoch 1: Train F1 = 0.3105, Val F1 = 0.2967\n",
      "Early stopping!\n",
      "\n",
      "Fold 3\n"
     ]
    },
    {
     "name": "stderr",
     "output_type": "stream",
     "text": [
      "                                                             \r"
     ]
    },
    {
     "name": "stdout",
     "output_type": "stream",
     "text": [
      "Epoch 1: Train F1 = 0.2711, Val F1 = 0.3598\n",
      "Early stopping!\n",
      "\n",
      "Fold 4\n"
     ]
    },
    {
     "name": "stderr",
     "output_type": "stream",
     "text": [
      "                                                             \r"
     ]
    },
    {
     "name": "stdout",
     "output_type": "stream",
     "text": [
      "Epoch 1: Train F1 = 0.3231, Val F1 = 0.3660\n",
      "Early stopping!\n",
      "\n",
      "Fold 5\n"
     ]
    },
    {
     "name": "stderr",
     "output_type": "stream",
     "text": [
      "[I 2024-11-06 06:59:03,613] Trial 4 finished with value: 0.362376348977672 and parameters: {'model_name': 'eva02_base_patch14_448.mim_in22k_ft_in22k_in1k', 'batch_size': 16, 'lr': 0.00014773610145430496, 'weight_decay': 0.0012248947011371486, 'dropout_rate': 0.1493225007221761, 'optimizer': 'AdamW'}. Best is trial 1 with value: 0.41407838636045496.\n"
     ]
    },
    {
     "name": "stdout",
     "output_type": "stream",
     "text": [
      "Epoch 1: Train F1 = 0.2673, Val F1 = 0.3233\n",
      "Early stopping!\n",
      "GPU Memory after trial: 1343.49MB\n",
      "GPU Memory before trial: 16.25MB\n",
      "\n",
      "Fold 1\n"
     ]
    },
    {
     "name": "stderr",
     "output_type": "stream",
     "text": [
      "                                                             \r"
     ]
    },
    {
     "name": "stdout",
     "output_type": "stream",
     "text": [
      "Epoch 1: Train F1 = 0.2980, Val F1 = 0.3317\n",
      "Early stopping!\n",
      "\n",
      "Fold 2\n"
     ]
    },
    {
     "name": "stderr",
     "output_type": "stream",
     "text": [
      "                                                             \r"
     ]
    },
    {
     "name": "stdout",
     "output_type": "stream",
     "text": [
      "Epoch 1: Train F1 = 0.0912, Val F1 = 0.0675\n",
      "Early stopping!\n",
      "\n",
      "Fold 3\n"
     ]
    },
    {
     "name": "stderr",
     "output_type": "stream",
     "text": [
      "                                                             \r"
     ]
    },
    {
     "name": "stdout",
     "output_type": "stream",
     "text": [
      "Epoch 1: Train F1 = 0.2723, Val F1 = 0.3197\n",
      "Early stopping!\n",
      "\n",
      "Fold 4\n"
     ]
    },
    {
     "name": "stderr",
     "output_type": "stream",
     "text": [
      "                                                             \r"
     ]
    },
    {
     "name": "stdout",
     "output_type": "stream",
     "text": [
      "Epoch 1: Train F1 = 0.2623, Val F1 = 0.3136\n",
      "Early stopping!\n",
      "\n",
      "Fold 5\n"
     ]
    },
    {
     "name": "stderr",
     "output_type": "stream",
     "text": [
      "[I 2024-11-06 07:06:02,550] Trial 5 finished with value: 0.21891466722532046 and parameters: {'model_name': 'eva02_base_patch14_448.mim_in22k_ft_in22k_in1k', 'batch_size': 16, 'lr': 0.00017594851771155444, 'weight_decay': 4.111355509282378e-05, 'dropout_rate': 0.23385923042413004, 'optimizer': 'AdamW'}. Best is trial 1 with value: 0.41407838636045496.\n"
     ]
    },
    {
     "name": "stdout",
     "output_type": "stream",
     "text": [
      "Epoch 1: Train F1 = 0.0589, Val F1 = 0.0621\n",
      "Early stopping!\n",
      "GPU Memory after trial: 1342.81MB\n",
      "GPU Memory before trial: 16.25MB\n",
      "\n",
      "Fold 1\n"
     ]
    },
    {
     "name": "stderr",
     "output_type": "stream",
     "text": [
      "                                                             \r"
     ]
    },
    {
     "name": "stdout",
     "output_type": "stream",
     "text": [
      "Epoch 1: Train F1 = 0.0489, Val F1 = 0.0663\n",
      "Early stopping!\n",
      "\n",
      "Fold 2\n"
     ]
    },
    {
     "name": "stderr",
     "output_type": "stream",
     "text": [
      "                                                             \r"
     ]
    },
    {
     "name": "stdout",
     "output_type": "stream",
     "text": [
      "Epoch 1: Train F1 = 0.0691, Val F1 = 0.0299\n",
      "Early stopping!\n",
      "\n",
      "Fold 3\n"
     ]
    },
    {
     "name": "stderr",
     "output_type": "stream",
     "text": [
      "                                                             \r"
     ]
    },
    {
     "name": "stdout",
     "output_type": "stream",
     "text": [
      "Epoch 1: Train F1 = 0.0727, Val F1 = 0.0521\n",
      "Early stopping!\n",
      "\n",
      "Fold 4\n"
     ]
    },
    {
     "name": "stderr",
     "output_type": "stream",
     "text": [
      "                                                             \r"
     ]
    },
    {
     "name": "stdout",
     "output_type": "stream",
     "text": [
      "Epoch 1: Train F1 = 0.0473, Val F1 = 0.0269\n",
      "Early stopping!\n",
      "\n",
      "Fold 5\n"
     ]
    },
    {
     "name": "stderr",
     "output_type": "stream",
     "text": [
      "[I 2024-11-06 07:12:59,662] Trial 6 finished with value: 0.040679051806432553 and parameters: {'model_name': 'eva02_base_patch14_448.mim_in22k_ft_in22k_in1k', 'batch_size': 16, 'lr': 0.0006333113418503979, 'weight_decay': 5.1048693215633276e-05, 'dropout_rate': 0.1515320946810945, 'optimizer': 'Adam'}. Best is trial 1 with value: 0.41407838636045496.\n"
     ]
    },
    {
     "name": "stdout",
     "output_type": "stream",
     "text": [
      "Epoch 1: Train F1 = 0.0607, Val F1 = 0.0281\n",
      "Early stopping!\n",
      "GPU Memory after trial: 1343.61MB\n",
      "GPU Memory before trial: 16.25MB\n",
      "\n",
      "Fold 1\n"
     ]
    },
    {
     "name": "stderr",
     "output_type": "stream",
     "text": [
      "                                                             \r"
     ]
    },
    {
     "name": "stdout",
     "output_type": "stream",
     "text": [
      "Epoch 1: Train F1 = 0.0888, Val F1 = 0.0402\n",
      "Early stopping!\n",
      "\n",
      "Fold 2\n"
     ]
    },
    {
     "name": "stderr",
     "output_type": "stream",
     "text": [
      "                                                             \r"
     ]
    },
    {
     "name": "stdout",
     "output_type": "stream",
     "text": [
      "Epoch 1: Train F1 = 0.0584, Val F1 = 0.0279\n",
      "Early stopping!\n",
      "\n",
      "Fold 3\n"
     ]
    },
    {
     "name": "stderr",
     "output_type": "stream",
     "text": [
      "                                                             \r"
     ]
    },
    {
     "name": "stdout",
     "output_type": "stream",
     "text": [
      "Epoch 1: Train F1 = 0.0541, Val F1 = 0.0171\n",
      "Early stopping!\n",
      "\n",
      "Fold 4\n"
     ]
    },
    {
     "name": "stderr",
     "output_type": "stream",
     "text": [
      "                                                             \r"
     ]
    },
    {
     "name": "stdout",
     "output_type": "stream",
     "text": [
      "Epoch 1: Train F1 = 0.0476, Val F1 = 0.0282\n",
      "Early stopping!\n",
      "\n",
      "Fold 5\n"
     ]
    },
    {
     "name": "stderr",
     "output_type": "stream",
     "text": [
      "[I 2024-11-06 07:19:55,577] Trial 7 finished with value: 0.024065487458799568 and parameters: {'model_name': 'eva02_base_patch14_448.mim_in22k_ft_in22k_in1k', 'batch_size': 16, 'lr': 0.0002907880626152667, 'weight_decay': 9.543097517700532e-05, 'dropout_rate': 0.015135587418889561, 'optimizer': 'AdamW'}. Best is trial 1 with value: 0.41407838636045496.\n"
     ]
    },
    {
     "name": "stdout",
     "output_type": "stream",
     "text": [
      "Epoch 1: Train F1 = 0.0559, Val F1 = 0.0070\n",
      "Early stopping!\n",
      "GPU Memory after trial: 1342.67MB\n",
      "GPU Memory before trial: 16.25MB\n",
      "\n",
      "Fold 1\n"
     ]
    },
    {
     "name": "stderr",
     "output_type": "stream",
     "text": [
      "                                                             \r"
     ]
    },
    {
     "name": "stdout",
     "output_type": "stream",
     "text": [
      "Epoch 1: Train F1 = 0.0789, Val F1 = 0.0653\n",
      "Early stopping!\n",
      "\n",
      "Fold 2\n"
     ]
    },
    {
     "name": "stderr",
     "output_type": "stream",
     "text": [
      "                                                             \r"
     ]
    },
    {
     "name": "stdout",
     "output_type": "stream",
     "text": [
      "Epoch 1: Train F1 = 0.0520, Val F1 = 0.0416\n",
      "Early stopping!\n",
      "\n",
      "Fold 3\n"
     ]
    },
    {
     "name": "stderr",
     "output_type": "stream",
     "text": [
      "                                                             \r"
     ]
    },
    {
     "name": "stdout",
     "output_type": "stream",
     "text": [
      "Epoch 1: Train F1 = 0.0903, Val F1 = 0.0496\n",
      "Early stopping!\n",
      "\n",
      "Fold 4\n"
     ]
    },
    {
     "name": "stderr",
     "output_type": "stream",
     "text": [
      "                                                             \r"
     ]
    },
    {
     "name": "stdout",
     "output_type": "stream",
     "text": [
      "Epoch 1: Train F1 = 0.0547, Val F1 = 0.0178\n",
      "Early stopping!\n",
      "\n",
      "Fold 5\n"
     ]
    },
    {
     "name": "stderr",
     "output_type": "stream",
     "text": [
      "[I 2024-11-06 07:26:52,431] Trial 8 finished with value: 0.04309508405209962 and parameters: {'model_name': 'eva02_base_patch14_448.mim_in22k_ft_in22k_in1k', 'batch_size': 16, 'lr': 0.00026589295833900494, 'weight_decay': 0.0023780447481447976, 'dropout_rate': 0.036028247670768045, 'optimizer': 'AdamW'}. Best is trial 1 with value: 0.41407838636045496.\n"
     ]
    },
    {
     "name": "stdout",
     "output_type": "stream",
     "text": [
      "Epoch 1: Train F1 = 0.0668, Val F1 = 0.0411\n",
      "Early stopping!\n",
      "GPU Memory after trial: 1341.57MB\n",
      "GPU Memory before trial: 16.25MB\n",
      "\n",
      "Fold 1\n"
     ]
    },
    {
     "name": "stderr",
     "output_type": "stream",
     "text": [
      "                                                             \r"
     ]
    },
    {
     "name": "stdout",
     "output_type": "stream",
     "text": [
      "Epoch 1: Train F1 = 0.0560, Val F1 = 0.0201\n",
      "Early stopping!\n",
      "\n",
      "Fold 2\n"
     ]
    },
    {
     "name": "stderr",
     "output_type": "stream",
     "text": [
      "                                                             \r"
     ]
    },
    {
     "name": "stdout",
     "output_type": "stream",
     "text": [
      "Epoch 1: Train F1 = 0.0619, Val F1 = 0.0332\n",
      "Early stopping!\n",
      "\n",
      "Fold 3\n"
     ]
    },
    {
     "name": "stderr",
     "output_type": "stream",
     "text": [
      "                                                             \r"
     ]
    },
    {
     "name": "stdout",
     "output_type": "stream",
     "text": [
      "Epoch 1: Train F1 = 0.0561, Val F1 = 0.0205\n",
      "Early stopping!\n",
      "\n",
      "Fold 4\n"
     ]
    },
    {
     "name": "stderr",
     "output_type": "stream",
     "text": [
      "                                                             \r"
     ]
    },
    {
     "name": "stdout",
     "output_type": "stream",
     "text": [
      "Epoch 1: Train F1 = 0.0619, Val F1 = 0.0340\n",
      "Early stopping!\n",
      "\n",
      "Fold 5\n"
     ]
    },
    {
     "name": "stderr",
     "output_type": "stream",
     "text": [
      "[I 2024-11-06 07:33:54,058] Trial 9 finished with value: 0.025117319252020247 and parameters: {'model_name': 'eva02_base_patch14_448.mim_in22k_ft_in22k_in1k', 'batch_size': 16, 'lr': 0.0006035719131914982, 'weight_decay': 0.006729838956333776, 'dropout_rate': 0.07707633516046153, 'optimizer': 'Adam'}. Best is trial 1 with value: 0.41407838636045496.\n"
     ]
    },
    {
     "name": "stdout",
     "output_type": "stream",
     "text": [
      "Epoch 1: Train F1 = 0.0573, Val F1 = 0.0179\n",
      "Early stopping!\n",
      "GPU Memory after trial: 1339.29MB\n",
      "GPU Memory before trial: 16.25MB\n",
      "\n",
      "Fold 1\n"
     ]
    },
    {
     "name": "stderr",
     "output_type": "stream",
     "text": [
      "                                                             \r"
     ]
    },
    {
     "name": "stdout",
     "output_type": "stream",
     "text": [
      "Epoch 1: Train F1 = 0.4287, Val F1 = 0.3913\n",
      "Early stopping!\n",
      "\n",
      "Fold 2\n"
     ]
    },
    {
     "name": "stderr",
     "output_type": "stream",
     "text": [
      "                                                             \r"
     ]
    },
    {
     "name": "stdout",
     "output_type": "stream",
     "text": [
      "Epoch 1: Train F1 = 0.4037, Val F1 = 0.4409\n",
      "Early stopping!\n",
      "\n",
      "Fold 3\n"
     ]
    },
    {
     "name": "stderr",
     "output_type": "stream",
     "text": [
      "                                                             \r"
     ]
    },
    {
     "name": "stdout",
     "output_type": "stream",
     "text": [
      "Epoch 1: Train F1 = 0.3617, Val F1 = 0.2828\n",
      "Early stopping!\n",
      "\n",
      "Fold 4\n"
     ]
    },
    {
     "name": "stderr",
     "output_type": "stream",
     "text": [
      "                                                             \r"
     ]
    },
    {
     "name": "stdout",
     "output_type": "stream",
     "text": [
      "Epoch 1: Train F1 = 0.3882, Val F1 = 0.4348\n",
      "Early stopping!\n",
      "\n",
      "Fold 5\n"
     ]
    },
    {
     "name": "stderr",
     "output_type": "stream",
     "text": [
      "[I 2024-11-06 07:40:50,444] Trial 10 finished with value: 0.39553320929593494 and parameters: {'model_name': 'eva02_base_patch14_448.mim_in22k_ft_in22k_in1k', 'batch_size': 16, 'lr': 0.00010186433091481214, 'weight_decay': 0.0003759955642467532, 'dropout_rate': 0.2613341204310477, 'optimizer': 'Adam'}. Best is trial 1 with value: 0.41407838636045496.\n"
     ]
    },
    {
     "name": "stdout",
     "output_type": "stream",
     "text": [
      "Epoch 1: Train F1 = 0.3843, Val F1 = 0.4278\n",
      "Early stopping!\n",
      "GPU Memory after trial: 1343.53MB\n",
      "GPU Memory before trial: 16.25MB\n",
      "\n",
      "Fold 1\n"
     ]
    },
    {
     "name": "stderr",
     "output_type": "stream",
     "text": [
      "                                                             \r"
     ]
    },
    {
     "name": "stdout",
     "output_type": "stream",
     "text": [
      "Epoch 1: Train F1 = 0.4014, Val F1 = 0.4827\n",
      "Early stopping!\n",
      "\n",
      "Fold 2\n"
     ]
    },
    {
     "name": "stderr",
     "output_type": "stream",
     "text": [
      "                                                             \r"
     ]
    },
    {
     "name": "stdout",
     "output_type": "stream",
     "text": [
      "Epoch 1: Train F1 = 0.3618, Val F1 = 0.4930\n",
      "Early stopping!\n",
      "\n",
      "Fold 3\n"
     ]
    },
    {
     "name": "stderr",
     "output_type": "stream",
     "text": [
      "                                                             \r"
     ]
    },
    {
     "name": "stdout",
     "output_type": "stream",
     "text": [
      "Epoch 1: Train F1 = 0.3797, Val F1 = 0.4852\n",
      "Early stopping!\n",
      "\n",
      "Fold 4\n"
     ]
    },
    {
     "name": "stderr",
     "output_type": "stream",
     "text": [
      "                                                             \r"
     ]
    },
    {
     "name": "stdout",
     "output_type": "stream",
     "text": [
      "Epoch 1: Train F1 = 0.3269, Val F1 = 0.3134\n",
      "Early stopping!\n",
      "\n",
      "Fold 5\n"
     ]
    },
    {
     "name": "stderr",
     "output_type": "stream",
     "text": [
      "[I 2024-11-06 07:47:52,110] Trial 11 finished with value: 0.4354051455942263 and parameters: {'model_name': 'eva02_base_patch14_448.mim_in22k_ft_in22k_in1k', 'batch_size': 16, 'lr': 0.00010015914431198004, 'weight_decay': 0.00037838891478987407, 'dropout_rate': 0.29993200079555354, 'optimizer': 'Adam'}. Best is trial 11 with value: 0.4354051455942263.\n"
     ]
    },
    {
     "name": "stdout",
     "output_type": "stream",
     "text": [
      "Epoch 1: Train F1 = 0.3145, Val F1 = 0.4027\n",
      "Early stopping!\n",
      "GPU Memory after trial: 1343.41MB\n",
      "GPU Memory before trial: 16.25MB\n",
      "\n",
      "Fold 1\n"
     ]
    },
    {
     "name": "stderr",
     "output_type": "stream",
     "text": [
      "                                                             \r"
     ]
    },
    {
     "name": "stdout",
     "output_type": "stream",
     "text": [
      "Epoch 1: Train F1 = 0.3214, Val F1 = 0.4099\n",
      "Early stopping!\n",
      "\n",
      "Fold 2\n"
     ]
    },
    {
     "name": "stderr",
     "output_type": "stream",
     "text": [
      "                                                             \r"
     ]
    },
    {
     "name": "stdout",
     "output_type": "stream",
     "text": [
      "Epoch 1: Train F1 = 0.4011, Val F1 = 0.4436\n",
      "Early stopping!\n",
      "\n",
      "Fold 3\n"
     ]
    },
    {
     "name": "stderr",
     "output_type": "stream",
     "text": [
      "                                                             \r"
     ]
    },
    {
     "name": "stdout",
     "output_type": "stream",
     "text": [
      "Epoch 1: Train F1 = 0.3519, Val F1 = 0.4727\n",
      "Early stopping!\n",
      "\n",
      "Fold 4\n"
     ]
    },
    {
     "name": "stderr",
     "output_type": "stream",
     "text": [
      "                                                             \r"
     ]
    },
    {
     "name": "stdout",
     "output_type": "stream",
     "text": [
      "Epoch 1: Train F1 = 0.2762, Val F1 = 0.4272\n",
      "Early stopping!\n",
      "\n",
      "Fold 5\n"
     ]
    },
    {
     "name": "stderr",
     "output_type": "stream",
     "text": [
      "[I 2024-11-06 07:54:50,048] Trial 12 finished with value: 0.41630876748644796 and parameters: {'model_name': 'eva02_base_patch14_448.mim_in22k_ft_in22k_in1k', 'batch_size': 16, 'lr': 0.00011117763373776684, 'weight_decay': 0.00026785965062032667, 'dropout_rate': 0.2888535776230132, 'optimizer': 'Adam'}. Best is trial 11 with value: 0.4354051455942263.\n"
     ]
    },
    {
     "name": "stdout",
     "output_type": "stream",
     "text": [
      "Epoch 1: Train F1 = 0.3497, Val F1 = 0.3281\n",
      "Early stopping!\n",
      "GPU Memory after trial: 1342.05MB\n",
      "GPU Memory before trial: 16.25MB\n",
      "\n",
      "Fold 1\n"
     ]
    },
    {
     "name": "stderr",
     "output_type": "stream",
     "text": [
      "                                                             \r"
     ]
    },
    {
     "name": "stdout",
     "output_type": "stream",
     "text": [
      "Epoch 1: Train F1 = 0.2241, Val F1 = 0.2778\n",
      "Early stopping!\n",
      "\n",
      "Fold 2\n"
     ]
    },
    {
     "name": "stderr",
     "output_type": "stream",
     "text": [
      "                                                             \r"
     ]
    },
    {
     "name": "stdout",
     "output_type": "stream",
     "text": [
      "Epoch 1: Train F1 = 0.2696, Val F1 = 0.4184\n",
      "Early stopping!\n",
      "\n",
      "Fold 3\n"
     ]
    },
    {
     "name": "stderr",
     "output_type": "stream",
     "text": [
      "                                                             \r"
     ]
    },
    {
     "name": "stdout",
     "output_type": "stream",
     "text": [
      "Epoch 1: Train F1 = 0.3075, Val F1 = 0.2997\n",
      "Early stopping!\n",
      "\n",
      "Fold 4\n"
     ]
    },
    {
     "name": "stderr",
     "output_type": "stream",
     "text": [
      "                                                             \r"
     ]
    },
    {
     "name": "stdout",
     "output_type": "stream",
     "text": [
      "Epoch 1: Train F1 = 0.2168, Val F1 = 0.2500\n",
      "Early stopping!\n",
      "\n",
      "Fold 5\n"
     ]
    },
    {
     "name": "stderr",
     "output_type": "stream",
     "text": [
      "[I 2024-11-06 08:01:49,251] Trial 13 finished with value: 0.3269036868750727 and parameters: {'model_name': 'eva02_base_patch14_448.mim_in22k_ft_in22k_in1k', 'batch_size': 16, 'lr': 0.00016487015161158395, 'weight_decay': 0.00042341584101139194, 'dropout_rate': 0.29668928600727623, 'optimizer': 'Adam'}. Best is trial 11 with value: 0.4354051455942263.\n"
     ]
    },
    {
     "name": "stdout",
     "output_type": "stream",
     "text": [
      "Epoch 1: Train F1 = 0.3505, Val F1 = 0.3886\n",
      "Early stopping!\n",
      "GPU Memory after trial: 1345.00MB\n",
      "GPU Memory before trial: 16.25MB\n",
      "\n",
      "Fold 1\n"
     ]
    },
    {
     "name": "stderr",
     "output_type": "stream",
     "text": [
      "                                                             \r"
     ]
    },
    {
     "name": "stdout",
     "output_type": "stream",
     "text": [
      "Epoch 1: Train F1 = 0.2588, Val F1 = 0.3795\n",
      "Early stopping!\n",
      "\n",
      "Fold 2\n"
     ]
    },
    {
     "name": "stderr",
     "output_type": "stream",
     "text": [
      "                                                             \r"
     ]
    },
    {
     "name": "stdout",
     "output_type": "stream",
     "text": [
      "Epoch 1: Train F1 = 0.3459, Val F1 = 0.3941\n",
      "Early stopping!\n",
      "\n",
      "Fold 3\n"
     ]
    },
    {
     "name": "stderr",
     "output_type": "stream",
     "text": [
      "                                                             \r"
     ]
    },
    {
     "name": "stdout",
     "output_type": "stream",
     "text": [
      "Epoch 1: Train F1 = 0.3531, Val F1 = 0.4455\n",
      "Early stopping!\n",
      "\n",
      "Fold 4\n"
     ]
    },
    {
     "name": "stderr",
     "output_type": "stream",
     "text": [
      "                                                             \r"
     ]
    },
    {
     "name": "stdout",
     "output_type": "stream",
     "text": [
      "Epoch 1: Train F1 = 0.2813, Val F1 = 0.4025\n",
      "Early stopping!\n",
      "\n",
      "Fold 5\n"
     ]
    },
    {
     "name": "stderr",
     "output_type": "stream",
     "text": [
      "                                                             \r"
     ]
    },
    {
     "name": "stdout",
     "output_type": "stream",
     "text": [
      "Epoch 1: Train F1 = 0.3521, Val F1 = 0.5175\n"
     ]
    },
    {
     "name": "stderr",
     "output_type": "stream",
     "text": [
      "[I 2024-11-06 08:14:13,796] Trial 14 finished with value: 0.471243297405415 and parameters: {'model_name': 'eva02_base_patch14_448.mim_in22k_ft_in22k_in1k', 'batch_size': 16, 'lr': 0.00013177562817053535, 'weight_decay': 0.00019072756574896346, 'dropout_rate': 0.21778562090390602, 'optimizer': 'Adam'}. Best is trial 14 with value: 0.471243297405415.\n"
     ]
    },
    {
     "name": "stdout",
     "output_type": "stream",
     "text": [
      "GPU Memory after trial: 1341.59MB\n",
      "GPU Memory before trial: 16.25MB\n",
      "\n",
      "Fold 1\n"
     ]
    },
    {
     "name": "stderr",
     "output_type": "stream",
     "text": [
      "                                                             \r"
     ]
    },
    {
     "name": "stdout",
     "output_type": "stream",
     "text": [
      "Epoch 1: Train F1 = 0.0679, Val F1 = 0.0401\n",
      "Early stopping!\n",
      "\n",
      "Fold 2\n"
     ]
    },
    {
     "name": "stderr",
     "output_type": "stream",
     "text": [
      "                                                             \r"
     ]
    },
    {
     "name": "stdout",
     "output_type": "stream",
     "text": [
      "Epoch 1: Train F1 = 0.0579, Val F1 = 0.0401\n",
      "Early stopping!\n",
      "\n",
      "Fold 3\n"
     ]
    },
    {
     "name": "stderr",
     "output_type": "stream",
     "text": [
      "                                                             \r"
     ]
    },
    {
     "name": "stdout",
     "output_type": "stream",
     "text": [
      "Epoch 1: Train F1 = 0.0691, Val F1 = 0.0390\n",
      "Early stopping!\n",
      "\n",
      "Fold 4\n"
     ]
    },
    {
     "name": "stderr",
     "output_type": "stream",
     "text": [
      "                                                             \r"
     ]
    },
    {
     "name": "stdout",
     "output_type": "stream",
     "text": [
      "Epoch 1: Train F1 = 0.0484, Val F1 = 0.0180\n",
      "Early stopping!\n",
      "\n",
      "Fold 5\n"
     ]
    },
    {
     "name": "stderr",
     "output_type": "stream",
     "text": [
      "[I 2024-11-06 08:21:17,109] Trial 15 finished with value: 0.03563228867463201 and parameters: {'model_name': 'eva02_base_patch14_448.mim_in22k_ft_in22k_in1k', 'batch_size': 16, 'lr': 0.000996093474405307, 'weight_decay': 0.00013645015172191269, 'dropout_rate': 0.20917409012382865, 'optimizer': 'Adam'}. Best is trial 14 with value: 0.471243297405415.\n"
     ]
    },
    {
     "name": "stdout",
     "output_type": "stream",
     "text": [
      "Epoch 1: Train F1 = 0.0512, Val F1 = 0.0409\n",
      "Early stopping!\n",
      "GPU Memory after trial: 1343.69MB\n",
      "GPU Memory before trial: 16.25MB\n",
      "\n",
      "Fold 1\n"
     ]
    },
    {
     "name": "stderr",
     "output_type": "stream",
     "text": [
      "                                                             \r"
     ]
    },
    {
     "name": "stdout",
     "output_type": "stream",
     "text": [
      "Epoch 1: Train F1 = 0.2383, Val F1 = 0.3466\n",
      "Early stopping!\n",
      "\n",
      "Fold 2\n"
     ]
    },
    {
     "name": "stderr",
     "output_type": "stream",
     "text": [
      "                                                             \r"
     ]
    },
    {
     "name": "stdout",
     "output_type": "stream",
     "text": [
      "Epoch 1: Train F1 = 0.1964, Val F1 = 0.2082\n",
      "Early stopping!\n",
      "\n",
      "Fold 3\n"
     ]
    },
    {
     "name": "stderr",
     "output_type": "stream",
     "text": [
      "                                                             \r"
     ]
    },
    {
     "name": "stdout",
     "output_type": "stream",
     "text": [
      "Epoch 1: Train F1 = 0.0545, Val F1 = 0.0274\n",
      "Early stopping!\n",
      "\n",
      "Fold 4\n"
     ]
    },
    {
     "name": "stderr",
     "output_type": "stream",
     "text": [
      "                                                             \r"
     ]
    },
    {
     "name": "stdout",
     "output_type": "stream",
     "text": [
      "Epoch 1: Train F1 = 0.0602, Val F1 = 0.0353\n",
      "Early stopping!\n",
      "\n",
      "Fold 5\n"
     ]
    },
    {
     "name": "stderr",
     "output_type": "stream",
     "text": [
      "[I 2024-11-06 08:28:15,171] Trial 16 finished with value: 0.13172437472248208 and parameters: {'model_name': 'eva02_base_patch14_448.mim_in22k_ft_in22k_in1k', 'batch_size': 16, 'lr': 0.00021336372202665398, 'weight_decay': 0.0009021106509875822, 'dropout_rate': 0.2142213807877203, 'optimizer': 'Adam'}. Best is trial 14 with value: 0.471243297405415.\n"
     ]
    },
    {
     "name": "stdout",
     "output_type": "stream",
     "text": [
      "Epoch 1: Train F1 = 0.0594, Val F1 = 0.0412\n",
      "Early stopping!\n",
      "GPU Memory after trial: 1340.93MB\n",
      "GPU Memory before trial: 16.25MB\n",
      "\n",
      "Fold 1\n"
     ]
    },
    {
     "name": "stderr",
     "output_type": "stream",
     "text": [
      "                                                             \r"
     ]
    },
    {
     "name": "stdout",
     "output_type": "stream",
     "text": [
      "Epoch 1: Train F1 = 0.3047, Val F1 = 0.3924\n",
      "Early stopping!\n",
      "\n",
      "Fold 2\n"
     ]
    },
    {
     "name": "stderr",
     "output_type": "stream",
     "text": [
      "                                                             \r"
     ]
    },
    {
     "name": "stdout",
     "output_type": "stream",
     "text": [
      "Epoch 1: Train F1 = 0.3722, Val F1 = 0.4423\n",
      "Early stopping!\n",
      "\n",
      "Fold 3\n"
     ]
    },
    {
     "name": "stderr",
     "output_type": "stream",
     "text": [
      "                                                             \r"
     ]
    },
    {
     "name": "stdout",
     "output_type": "stream",
     "text": [
      "Epoch 1: Train F1 = 0.3103, Val F1 = 0.3974\n",
      "Early stopping!\n",
      "\n",
      "Fold 4\n"
     ]
    },
    {
     "name": "stderr",
     "output_type": "stream",
     "text": [
      "                                                             \r"
     ]
    },
    {
     "name": "stdout",
     "output_type": "stream",
     "text": [
      "Epoch 1: Train F1 = 0.3948, Val F1 = 0.3238\n",
      "Early stopping!\n",
      "\n",
      "Fold 5\n"
     ]
    },
    {
     "name": "stderr",
     "output_type": "stream",
     "text": [
      "[I 2024-11-06 08:35:14,914] Trial 17 finished with value: 0.31673167341179587 and parameters: {'model_name': 'eva02_base_patch14_448.mim_in22k_ft_in22k_in1k', 'batch_size': 16, 'lr': 0.00013897042507442903, 'weight_decay': 0.0001439391484701986, 'dropout_rate': 0.2535556122167856, 'optimizer': 'Adam'}. Best is trial 14 with value: 0.471243297405415.\n"
     ]
    },
    {
     "name": "stdout",
     "output_type": "stream",
     "text": [
      "Epoch 1: Train F1 = 0.0949, Val F1 = 0.0277\n",
      "Early stopping!\n",
      "GPU Memory after trial: 1342.62MB\n",
      "GPU Memory before trial: 16.25MB\n",
      "\n",
      "Fold 1\n"
     ]
    },
    {
     "name": "stderr",
     "output_type": "stream",
     "text": [
      "                                                             \r"
     ]
    },
    {
     "name": "stdout",
     "output_type": "stream",
     "text": [
      "Epoch 1: Train F1 = 0.0991, Val F1 = 0.0808\n",
      "Early stopping!\n",
      "\n",
      "Fold 2\n"
     ]
    },
    {
     "name": "stderr",
     "output_type": "stream",
     "text": [
      "                                                             \r"
     ]
    },
    {
     "name": "stdout",
     "output_type": "stream",
     "text": [
      "Epoch 1: Train F1 = 0.0636, Val F1 = 0.0356\n",
      "Early stopping!\n",
      "\n",
      "Fold 3\n"
     ]
    },
    {
     "name": "stderr",
     "output_type": "stream",
     "text": [
      "                                                             \r"
     ]
    },
    {
     "name": "stdout",
     "output_type": "stream",
     "text": [
      "Epoch 1: Train F1 = 0.0575, Val F1 = 0.0277\n",
      "Early stopping!\n",
      "\n",
      "Fold 4\n"
     ]
    },
    {
     "name": "stderr",
     "output_type": "stream",
     "text": [
      "                                                             \r"
     ]
    },
    {
     "name": "stdout",
     "output_type": "stream",
     "text": [
      "Epoch 1: Train F1 = 0.0545, Val F1 = 0.0334\n",
      "Early stopping!\n",
      "\n",
      "Fold 5\n"
     ]
    },
    {
     "name": "stderr",
     "output_type": "stream",
     "text": [
      "[I 2024-11-06 08:42:11,802] Trial 18 finished with value: 0.09772085684606654 and parameters: {'model_name': 'eva02_base_patch14_448.mim_in22k_ft_in22k_in1k', 'batch_size': 16, 'lr': 0.0002278749974261854, 'weight_decay': 0.0008098076779562654, 'dropout_rate': 0.19164458533726053, 'optimizer': 'Adam'}. Best is trial 14 with value: 0.471243297405415.\n"
     ]
    },
    {
     "name": "stdout",
     "output_type": "stream",
     "text": [
      "Epoch 1: Train F1 = 0.2212, Val F1 = 0.3111\n",
      "Early stopping!\n",
      "GPU Memory after trial: 1342.62MB\n",
      "GPU Memory before trial: 16.25MB\n",
      "\n",
      "Fold 1\n"
     ]
    },
    {
     "name": "stderr",
     "output_type": "stream",
     "text": [
      "                                                             \r"
     ]
    },
    {
     "name": "stdout",
     "output_type": "stream",
     "text": [
      "Epoch 1: Train F1 = 0.2794, Val F1 = 0.2345\n",
      "Early stopping!\n",
      "\n",
      "Fold 2\n"
     ]
    },
    {
     "name": "stderr",
     "output_type": "stream",
     "text": [
      "                                                             \r"
     ]
    },
    {
     "name": "stdout",
     "output_type": "stream",
     "text": [
      "Epoch 1: Train F1 = 0.3339, Val F1 = 0.4991\n",
      "Early stopping!\n",
      "\n",
      "Fold 3\n"
     ]
    },
    {
     "name": "stderr",
     "output_type": "stream",
     "text": [
      "                                                             \r"
     ]
    },
    {
     "name": "stdout",
     "output_type": "stream",
     "text": [
      "Epoch 1: Train F1 = 0.3090, Val F1 = 0.3078\n",
      "Early stopping!\n",
      "\n",
      "Fold 4\n"
     ]
    },
    {
     "name": "stderr",
     "output_type": "stream",
     "text": [
      "                                                             \r"
     ]
    },
    {
     "name": "stdout",
     "output_type": "stream",
     "text": [
      "Epoch 1: Train F1 = 0.3259, Val F1 = 0.3370\n",
      "Early stopping!\n",
      "\n",
      "Fold 5\n"
     ]
    },
    {
     "name": "stderr",
     "output_type": "stream",
     "text": [
      "[I 2024-11-06 08:49:10,273] Trial 19 finished with value: 0.33972333382459075 and parameters: {'model_name': 'eva02_base_patch14_448.mim_in22k_ft_in22k_in1k', 'batch_size': 16, 'lr': 0.00013626716388884984, 'weight_decay': 0.00023426017489523913, 'dropout_rate': 0.26748964303942263, 'optimizer': 'Adam'}. Best is trial 14 with value: 0.471243297405415.\n"
     ]
    },
    {
     "name": "stdout",
     "output_type": "stream",
     "text": [
      "Epoch 1: Train F1 = 0.3127, Val F1 = 0.3202\n",
      "Early stopping!\n",
      "GPU Memory after trial: 1342.62MB\n",
      "Best parameters: {'model_name': 'eva02_base_patch14_448.mim_in22k_ft_in22k_in1k', 'batch_size': 16, 'lr': 0.00013177562817053535, 'weight_decay': 0.00019072756574896346, 'dropout_rate': 0.21778562090390602, 'optimizer': 'Adam'}\n",
      "Best parameters saved to best_params.json\n"
     ]
    }
   ],
   "source": [
    "\n",
    "\n",
    "# Optuna를 사용한 하이퍼파라미터 최적화\n",
    "study = optuna.create_study(\n",
    "    direction='maximize',\n",
    "    storage=optuna.storages.JournalStorage(\n",
    "        optuna.storages.JournalFileStorage(\"study.log\")  # 로그 파일로 저장\n",
    "    ),\n",
    "    load_if_exists=True\n",
    ")\n",
    "study.optimize(lambda trial: objective(trial, device), n_trials=20)\n",
    "\n",
    "best_params = study.best_params\n",
    "print(\"Best parameters:\", best_params)\n",
    "\n",
    "\n",
    "# Best parameters 저장\n",
    "now = datetime.now()\n",
    "with open(f\"best_params_{now.month:02}{now.day:02}{now.hour:02}{now.minute:02}.json\", \"w\") as f:\n",
    "    json.dump(best_params, f)\n",
    "print(\"Best parameters saved to best_params.json\")\n",
    "\n",
    "\n"
   ]
  },
  {
   "cell_type": "code",
   "execution_count": 18,
   "metadata": {},
   "outputs": [],
   "source": [
    "torch.cuda.empty_cache()"
   ]
  },
  {
   "cell_type": "code",
   "execution_count": 25,
   "metadata": {},
   "outputs": [
    {
     "name": "stdout",
     "output_type": "stream",
     "text": [
      "Loaded best parameters: {'model_name': 'tf_efficientnet_b3.ns_jft_in1k', 'batch_size': 16, 'lr': 0.00023815462688141223, 'weight_decay': 0.001496609249163004, 'dropout_rate': 0.12519174608631073, 'optimizer': 'Adam'}\n"
     ]
    }
   ],
   "source": [
    "# Best parameters 불러오기\n",
    "with open(\"best_params_11050709.json\", \"r\") as f:\n",
    "    loaded_params = json.load(f)\n",
    "print(\"Loaded best parameters:\", loaded_params)\n"
   ]
  },
  {
   "cell_type": "code",
   "execution_count": 48,
   "metadata": {},
   "outputs": [
    {
     "name": "stdout",
     "output_type": "stream",
     "text": [
      "\n",
      "Evaluating best parameters with k-fold validation...\n",
      "\n",
      "==================== Fold 1 ====================\n"
     ]
    },
    {
     "name": "stderr",
     "output_type": "stream",
     "text": [
      "                                                             \r"
     ]
    },
    {
     "name": "stdout",
     "output_type": "stream",
     "text": [
      "Epoch 1: Val F1 = 0.6754\n"
     ]
    },
    {
     "name": "stderr",
     "output_type": "stream",
     "text": [
      "                                                             \r"
     ]
    },
    {
     "name": "stdout",
     "output_type": "stream",
     "text": [
      "\n",
      "==================== Fold 2 ====================\n"
     ]
    },
    {
     "name": "stderr",
     "output_type": "stream",
     "text": [
      "                                                             \r"
     ]
    },
    {
     "name": "stdout",
     "output_type": "stream",
     "text": [
      "Epoch 1: Val F1 = 0.6660\n"
     ]
    },
    {
     "name": "stderr",
     "output_type": "stream",
     "text": [
      "                                                             \r"
     ]
    },
    {
     "name": "stdout",
     "output_type": "stream",
     "text": [
      "\n",
      "==================== Fold 3 ====================\n"
     ]
    },
    {
     "name": "stderr",
     "output_type": "stream",
     "text": [
      "                                                             \r"
     ]
    },
    {
     "name": "stdout",
     "output_type": "stream",
     "text": [
      "Epoch 1: Val F1 = 0.6769\n"
     ]
    },
    {
     "name": "stderr",
     "output_type": "stream",
     "text": [
      "                                                             \r"
     ]
    },
    {
     "name": "stdout",
     "output_type": "stream",
     "text": [
      "\n",
      "==================== Fold 4 ====================\n"
     ]
    },
    {
     "name": "stderr",
     "output_type": "stream",
     "text": [
      "                                                             \r"
     ]
    },
    {
     "name": "stdout",
     "output_type": "stream",
     "text": [
      "Epoch 1: Val F1 = 0.6667\n"
     ]
    },
    {
     "name": "stderr",
     "output_type": "stream",
     "text": [
      "                                                             \r"
     ]
    },
    {
     "name": "stdout",
     "output_type": "stream",
     "text": [
      "\n",
      "==================== Fold 5 ====================\n"
     ]
    },
    {
     "name": "stderr",
     "output_type": "stream",
     "text": [
      "                                                             \r"
     ]
    },
    {
     "name": "stdout",
     "output_type": "stream",
     "text": [
      "Epoch 1: Val F1 = 0.6545\n"
     ]
    },
    {
     "name": "stderr",
     "output_type": "stream",
     "text": [
      "                                                             \r"
     ]
    },
    {
     "name": "stdout",
     "output_type": "stream",
     "text": [
      "\n",
      "==================================================\n",
      "Average Performance Across All Folds:\n",
      "\n",
      "Detailed metrics saved to 'best_params_fold_class_metrics.csv'\n",
      "\n",
      "Average Confusion Matrix Across All Folds:\n",
      "[[20.   0.   0.   0.   0.   0.   0.   0.   0.   0.   0.   0.   0.   0.\n",
      "   0.   0.   0. ]\n",
      " [ 0.   7.2  0.   0.2  0.4  0.   0.   0.4  0.   0.   0.2  0.   0.   1.\n",
      "   0.   0.   0. ]\n",
      " [ 0.   0.  19.8  0.   0.   0.   0.   0.   0.   0.   0.   0.   0.   0.\n",
      "   0.   0.   0.2]\n",
      " [ 0.2  0.   0.   8.2  2.4  0.   0.   6.   0.   0.   0.2  0.   0.   0.2\n",
      "   2.2  0.   0. ]\n",
      " [ 0.   0.8  0.   2.  10.8  0.   0.   2.   0.   0.   0.2  0.   0.   0.8\n",
      "   3.2  0.   0. ]\n",
      " [ 0.   0.   0.   0.   0.  20.   0.   0.   0.   0.   0.   0.   0.   0.\n",
      "   0.   0.   0. ]\n",
      " [ 0.   0.   0.   0.   0.   0.  19.   0.   0.   0.   0.4  0.4  0.   0.2\n",
      "   0.   0.   0. ]\n",
      " [ 0.   0.   0.   5.6  4.   0.   0.2  7.4  0.   0.   0.2  0.   0.4  0.6\n",
      "   1.8  0.   0. ]\n",
      " [ 0.   0.   0.   0.   0.2  0.4  0.   0.  19.6  0.   0.   0.   0.   0.\n",
      "   0.   0.   0. ]\n",
      " [ 0.   0.   0.   0.   0.   0.   0.   0.   0.  19.8  0.   0.   0.2  0.\n",
      "   0.   0.   0. ]\n",
      " [ 0.   0.   0.   0.   0.   0.   0.   0.   0.   0.  20.2  0.   0.   0.2\n",
      "   0.   0.   0. ]\n",
      " [ 0.   0.   0.   0.2  0.   0.   0.   0.   0.   0.   0.4 18.2  0.4  0.4\n",
      "   0.   0.   0. ]\n",
      " [ 0.   0.   0.   0.   0.4  0.   0.2  0.   0.   0.   0.2  0.2 17.8  1.2\n",
      "   0.   0.   0. ]\n",
      " [ 0.   0.2  0.   0.2  0.2  0.   0.   0.2  0.   0.   0.8  0.2  0.2 12.4\n",
      "   0.4  0.   0. ]\n",
      " [ 0.   0.   0.   2.4  3.2  0.   0.   1.6  0.   0.   0.   0.   0.2  0.\n",
      "   2.8  0.   0. ]\n",
      " [ 0.   0.   0.   0.   0.4  0.   0.   0.   0.   0.   0.2  0.   0.   0.\n",
      "   0.  19.4  0. ]\n",
      " [ 0.   0.   0.   0.   0.   0.   0.   0.   0.   0.   0.   0.   0.   0.\n",
      "   0.   0.  20. ]]\n",
      "\n",
      "Standard Deviation of Confusion Matrix Across All Folds:\n",
      "[[0.         0.         0.         0.         0.         0.\n",
      "  0.         0.         0.         0.         0.         0.\n",
      "  0.         0.         0.         0.         0.        ]\n",
      " [0.         1.46969385 0.         0.4        0.48989795 0.\n",
      "  0.         0.8        0.         0.         0.4        0.\n",
      "  0.         1.09544512 0.         0.         0.        ]\n",
      " [0.         0.         0.4        0.         0.         0.\n",
      "  0.         0.         0.         0.         0.         0.\n",
      "  0.         0.         0.         0.         0.4       ]\n",
      " [0.4        0.         0.         5.63560112 0.8        0.\n",
      "  0.         3.46410162 0.         0.         0.4        0.\n",
      "  0.         0.4        1.16619038 0.         0.        ]\n",
      " [0.         0.9797959  0.         2.28035085 4.83321839 0.\n",
      "  0.         1.09544512 0.         0.         0.4        0.\n",
      "  0.         0.74833148 4.66476152 0.         0.        ]\n",
      " [0.         0.         0.         0.         0.         0.\n",
      "  0.         0.         0.         0.         0.         0.\n",
      "  0.         0.         0.         0.         0.        ]\n",
      " [0.         0.         0.         0.         0.         0.\n",
      "  1.09544512 0.         0.         0.         0.8        0.48989795\n",
      "  0.         0.4        0.         0.         0.        ]\n",
      " [0.         0.         0.         4.84148737 2.75680975 0.\n",
      "  0.4        2.33238076 0.         0.         0.4        0.\n",
      "  0.8        0.8        1.72046505 0.         0.        ]\n",
      " [0.         0.         0.         0.         0.4        0.48989795\n",
      "  0.         0.         0.48989795 0.         0.         0.\n",
      "  0.         0.         0.         0.         0.        ]\n",
      " [0.         0.         0.         0.         0.         0.\n",
      "  0.         0.         0.         0.4        0.         0.\n",
      "  0.4        0.         0.         0.         0.        ]\n",
      " [0.         0.         0.         0.         0.         0.\n",
      "  0.         0.         0.         0.         0.74833148 0.\n",
      "  0.         0.4        0.         0.         0.        ]\n",
      " [0.         0.         0.         0.4        0.         0.\n",
      "  0.         0.         0.         0.         0.8        1.16619038\n",
      "  0.48989795 0.48989795 0.         0.         0.        ]\n",
      " [0.         0.         0.         0.         0.8        0.\n",
      "  0.4        0.         0.         0.         0.4        0.4\n",
      "  1.16619038 1.46969385 0.         0.         0.        ]\n",
      " [0.         0.4        0.         0.4        0.4        0.\n",
      "  0.         0.4        0.         0.         0.74833148 0.4\n",
      "  0.4        0.48989795 0.8        0.         0.        ]\n",
      " [0.         0.         0.         1.95959179 1.16619038 0.\n",
      "  0.         0.8        0.         0.         0.         0.\n",
      "  0.4        0.         1.16619038 0.         0.        ]\n",
      " [0.         0.         0.         0.         0.48989795 0.\n",
      "  0.         0.         0.         0.         0.4        0.\n",
      "  0.         0.         0.         0.48989795 0.        ]\n",
      " [0.         0.         0.         0.         0.         0.\n",
      "  0.         0.         0.         0.         0.         0.\n",
      "  0.         0.         0.         0.         0.        ]]\n"
     ]
    }
   ],
   "source": [
    "# 베스트 파라미터로 k-fold 검증 수행\n",
    "# loaded_params, best_params\n",
    "fold_results = evaluate_best_params(loaded_params, device)"
   ]
  },
  {
   "cell_type": "code",
   "execution_count": null,
   "metadata": {},
   "outputs": [],
   "source": []
  },
  {
   "cell_type": "code",
   "execution_count": 26,
   "metadata": {},
   "outputs": [],
   "source": [
    "\n",
    "if loaded_params['model_name'] == \"swinv2_tiny_window8_256\":\n",
    "    img_size = 256\n",
    "elif loaded_params['model_name'] == \"tf_efficientnet_b3.ns_jft_in1k\":\n",
    "    img_size = 300\n",
    "elif loaded_params['model_name'] == \"eva02_base_patch14_448.mim_in22k_ft_in22k_in1k\":\n",
    "    img_size = 448\n",
    "            \n",
    "# img_size = loaded_params['img_size']\n",
    "trn_transform, tst_transform = get_transforms(img_size)\n",
    "\n",
    "# 전체 학습 데이터셋으로 모델 학습\n",
    "combined_csv_paths = [\n",
    "    # train_csv_path,\n",
    "    # '../data/train2.csv',\n",
    "    '../data/train2_only_3_7.csv',\n",
    "    '../data/target_3_images.csv',\n",
    "    # '../data/target_4_images.csv',\n",
    "    '../data/target_7_images.csv',\n",
    "    # '../data/target_14_images.csv'\n",
    "]\n",
    "\n",
    "combined_img_paths = [\n",
    "    # train_img_path,\n",
    "    '../data/train_enhanced',\n",
    "    '../data/cropped_images_enhanced/target_3',\n",
    "    # '../data/cropped_images/target_4',\n",
    "    '../data/cropped_images_enhanced/target_7',\n",
    "    # '../data/cropped_images/target_14',\n",
    "]\n",
    "\n",
    "# 통합된 데이터셋 생성\n",
    "combined_dataset = load_multiple_datasets(combined_csv_paths, combined_img_paths, transform=trn_transform)\n",
    "\n",
    "# trn_dataset = ImageDataset(train_csv_path, train_img_path, transform=trn_transform)\n",
    "\n",
    "trn_loader = DataLoader(\n",
    "    combined_dataset,\n",
    "    batch_size=loaded_params['batch_size'],\n",
    "    shuffle=True,\n",
    "    num_workers=4,\n",
    "    pin_memory=True\n",
    ")\n",
    "\n",
    "# 위에 명시되어 있음.  경로 바꿀 경우만\n",
    "sample_path = '../data/output_only_3_7.csv'\n",
    "\n",
    "tst_dataset = ImageDataset(sample_path, test_img_path, transform=tst_transform)\n",
    "\n",
    "tst_loader = DataLoader(\n",
    "    tst_dataset,\n",
    "    batch_size=loaded_params['batch_size'],\n",
    "    shuffle=False,\n",
    "    num_workers=4,\n",
    "    pin_memory=True\n",
    ")"
   ]
  },
  {
   "cell_type": "code",
   "execution_count": 27,
   "metadata": {},
   "outputs": [
    {
     "data": {
      "application/vnd.jupyter.widget-view+json": {
       "model_id": "53f349124a3c46a8b409eb0b7296033e",
       "version_major": 2,
       "version_minor": 0
      },
      "text/plain": [
       "model.safetensors:   0%|          | 0.00/49.3M [00:00<?, ?B/s]"
      ]
     },
     "metadata": {},
     "output_type": "display_data"
    },
    {
     "name": "stdout",
     "output_type": "stream",
     "text": [
      "Training initial model...\n"
     ]
    },
    {
     "name": "stderr",
     "output_type": "stream",
     "text": [
      "                                                             \r"
     ]
    },
    {
     "name": "stdout",
     "output_type": "stream",
     "text": [
      "Epoch 1: F1 = 0.0786\n"
     ]
    },
    {
     "name": "stderr",
     "output_type": "stream",
     "text": [
      "                                                             \r"
     ]
    },
    {
     "name": "stdout",
     "output_type": "stream",
     "text": [
      "Epoch 2: F1 = 0.5959\n"
     ]
    },
    {
     "name": "stderr",
     "output_type": "stream",
     "text": [
      "                                                             \r"
     ]
    },
    {
     "name": "stdout",
     "output_type": "stream",
     "text": [
      "Epoch 3: F1 = 0.6222\n"
     ]
    },
    {
     "name": "stderr",
     "output_type": "stream",
     "text": [
      "                                                             \r"
     ]
    },
    {
     "name": "stdout",
     "output_type": "stream",
     "text": [
      "Epoch 4: F1 = 0.6714\n"
     ]
    },
    {
     "name": "stderr",
     "output_type": "stream",
     "text": [
      "                                                             \r"
     ]
    },
    {
     "name": "stdout",
     "output_type": "stream",
     "text": [
      "Epoch 5: F1 = 0.7241\n"
     ]
    },
    {
     "name": "stderr",
     "output_type": "stream",
     "text": [
      "                                                             \r"
     ]
    },
    {
     "name": "stdout",
     "output_type": "stream",
     "text": [
      "Epoch 6: F1 = 0.7093\n"
     ]
    },
    {
     "name": "stderr",
     "output_type": "stream",
     "text": [
      "                                                             \r"
     ]
    },
    {
     "name": "stdout",
     "output_type": "stream",
     "text": [
      "Epoch 7: F1 = 0.7345\n"
     ]
    },
    {
     "name": "stderr",
     "output_type": "stream",
     "text": [
      "                                                             \r"
     ]
    },
    {
     "name": "stdout",
     "output_type": "stream",
     "text": [
      "Epoch 8: F1 = 0.7550\n"
     ]
    },
    {
     "name": "stderr",
     "output_type": "stream",
     "text": [
      "                                                             \r"
     ]
    },
    {
     "name": "stdout",
     "output_type": "stream",
     "text": [
      "Epoch 9: F1 = 0.8130\n"
     ]
    },
    {
     "name": "stderr",
     "output_type": "stream",
     "text": [
      "                                                             \r"
     ]
    },
    {
     "name": "stdout",
     "output_type": "stream",
     "text": [
      "Epoch 10: F1 = 0.8002\n"
     ]
    },
    {
     "name": "stderr",
     "output_type": "stream",
     "text": [
      "                                                             \r"
     ]
    },
    {
     "name": "stdout",
     "output_type": "stream",
     "text": [
      "Epoch 11: F1 = 0.8231\n"
     ]
    },
    {
     "name": "stderr",
     "output_type": "stream",
     "text": [
      "                                                             \r"
     ]
    },
    {
     "name": "stdout",
     "output_type": "stream",
     "text": [
      "Epoch 12: F1 = 0.8383\n"
     ]
    },
    {
     "name": "stderr",
     "output_type": "stream",
     "text": [
      "                                                             \r"
     ]
    },
    {
     "name": "stdout",
     "output_type": "stream",
     "text": [
      "Epoch 13: F1 = 0.8484\n"
     ]
    },
    {
     "name": "stderr",
     "output_type": "stream",
     "text": [
      "                                                             \r"
     ]
    },
    {
     "name": "stdout",
     "output_type": "stream",
     "text": [
      "Epoch 14: F1 = 0.8712\n"
     ]
    },
    {
     "name": "stderr",
     "output_type": "stream",
     "text": [
      "                                                             \r"
     ]
    },
    {
     "name": "stdout",
     "output_type": "stream",
     "text": [
      "Epoch 15: F1 = 0.8938\n"
     ]
    },
    {
     "name": "stderr",
     "output_type": "stream",
     "text": [
      "                                                             \r"
     ]
    },
    {
     "name": "stdout",
     "output_type": "stream",
     "text": [
      "Epoch 16: F1 = 0.9090\n"
     ]
    },
    {
     "name": "stderr",
     "output_type": "stream",
     "text": [
      "                                                             \r"
     ]
    },
    {
     "name": "stdout",
     "output_type": "stream",
     "text": [
      "Epoch 17: F1 = 0.9090\n"
     ]
    },
    {
     "name": "stderr",
     "output_type": "stream",
     "text": [
      "                                                             \r"
     ]
    },
    {
     "name": "stdout",
     "output_type": "stream",
     "text": [
      "Epoch 18: F1 = 0.9116\n"
     ]
    },
    {
     "name": "stderr",
     "output_type": "stream",
     "text": [
      "                                                             \r"
     ]
    },
    {
     "name": "stdout",
     "output_type": "stream",
     "text": [
      "Epoch 19: F1 = 0.8760\n"
     ]
    },
    {
     "name": "stderr",
     "output_type": "stream",
     "text": [
      "                                                             \r"
     ]
    },
    {
     "name": "stdout",
     "output_type": "stream",
     "text": [
      "Epoch 20: F1 = 0.8812\n"
     ]
    },
    {
     "name": "stderr",
     "output_type": "stream",
     "text": [
      "                                                             \r"
     ]
    },
    {
     "name": "stdout",
     "output_type": "stream",
     "text": [
      "Epoch 21: F1 = 0.9217\n"
     ]
    },
    {
     "name": "stderr",
     "output_type": "stream",
     "text": [
      "                                                             \r"
     ]
    },
    {
     "name": "stdout",
     "output_type": "stream",
     "text": [
      "Epoch 22: F1 = 0.9116\n"
     ]
    },
    {
     "name": "stderr",
     "output_type": "stream",
     "text": [
      "                                                             \r"
     ]
    },
    {
     "name": "stdout",
     "output_type": "stream",
     "text": [
      "Epoch 23: F1 = 0.9394\n"
     ]
    },
    {
     "name": "stderr",
     "output_type": "stream",
     "text": [
      "                                                             \r"
     ]
    },
    {
     "name": "stdout",
     "output_type": "stream",
     "text": [
      "Epoch 24: F1 = 0.9394\n"
     ]
    },
    {
     "name": "stderr",
     "output_type": "stream",
     "text": [
      "                                                             \r"
     ]
    },
    {
     "name": "stdout",
     "output_type": "stream",
     "text": [
      "Epoch 25: F1 = 0.9116\n"
     ]
    },
    {
     "name": "stderr",
     "output_type": "stream",
     "text": [
      "                                                             \r"
     ]
    },
    {
     "name": "stdout",
     "output_type": "stream",
     "text": [
      "Epoch 26: F1 = 0.9444\n"
     ]
    },
    {
     "name": "stderr",
     "output_type": "stream",
     "text": [
      "                                                             \r"
     ]
    },
    {
     "name": "stdout",
     "output_type": "stream",
     "text": [
      "Epoch 27: F1 = 0.9293\n"
     ]
    },
    {
     "name": "stderr",
     "output_type": "stream",
     "text": [
      "                                                             \r"
     ]
    },
    {
     "name": "stdout",
     "output_type": "stream",
     "text": [
      "Epoch 28: F1 = 0.9469\n"
     ]
    },
    {
     "name": "stderr",
     "output_type": "stream",
     "text": [
      "                                                             \r"
     ]
    },
    {
     "name": "stdout",
     "output_type": "stream",
     "text": [
      "Epoch 29: F1 = 0.9494\n"
     ]
    },
    {
     "name": "stderr",
     "output_type": "stream",
     "text": [
      "                                                             \r"
     ]
    },
    {
     "name": "stdout",
     "output_type": "stream",
     "text": [
      "Epoch 30: F1 = 0.9520\n"
     ]
    },
    {
     "name": "stderr",
     "output_type": "stream",
     "text": [
      "                                                             \r"
     ]
    },
    {
     "name": "stdout",
     "output_type": "stream",
     "text": [
      "Epoch 31: F1 = 0.9419\n"
     ]
    },
    {
     "name": "stderr",
     "output_type": "stream",
     "text": [
      "                                                             \r"
     ]
    },
    {
     "name": "stdout",
     "output_type": "stream",
     "text": [
      "Epoch 32: F1 = 0.9167\n"
     ]
    },
    {
     "name": "stderr",
     "output_type": "stream",
     "text": [
      "                                                             \r"
     ]
    },
    {
     "name": "stdout",
     "output_type": "stream",
     "text": [
      "Epoch 33: F1 = 0.9570\n"
     ]
    },
    {
     "name": "stderr",
     "output_type": "stream",
     "text": [
      "                                                             \r"
     ]
    },
    {
     "name": "stdout",
     "output_type": "stream",
     "text": [
      "Epoch 34: F1 = 0.9621\n"
     ]
    },
    {
     "name": "stderr",
     "output_type": "stream",
     "text": [
      "                                                             \r"
     ]
    },
    {
     "name": "stdout",
     "output_type": "stream",
     "text": [
      "Epoch 35: F1 = 0.9393\n"
     ]
    },
    {
     "name": "stderr",
     "output_type": "stream",
     "text": [
      "                                                             \r"
     ]
    },
    {
     "name": "stdout",
     "output_type": "stream",
     "text": [
      "Epoch 36: F1 = 0.9369\n"
     ]
    },
    {
     "name": "stderr",
     "output_type": "stream",
     "text": [
      "                                                             \r"
     ]
    },
    {
     "name": "stdout",
     "output_type": "stream",
     "text": [
      "Epoch 37: F1 = 0.9217\n"
     ]
    },
    {
     "name": "stderr",
     "output_type": "stream",
     "text": [
      "                                                             \r"
     ]
    },
    {
     "name": "stdout",
     "output_type": "stream",
     "text": [
      "Epoch 38: F1 = 0.9545\n"
     ]
    },
    {
     "name": "stderr",
     "output_type": "stream",
     "text": [
      "                                                             \r"
     ]
    },
    {
     "name": "stdout",
     "output_type": "stream",
     "text": [
      "Epoch 39: F1 = 0.9621\n"
     ]
    },
    {
     "name": "stderr",
     "output_type": "stream",
     "text": [
      "                                                             \r"
     ]
    },
    {
     "name": "stdout",
     "output_type": "stream",
     "text": [
      "Epoch 40: F1 = 0.9621\n"
     ]
    },
    {
     "name": "stderr",
     "output_type": "stream",
     "text": [
      "                                                             \r"
     ]
    },
    {
     "name": "stdout",
     "output_type": "stream",
     "text": [
      "Epoch 41: F1 = 0.9722\n"
     ]
    },
    {
     "name": "stderr",
     "output_type": "stream",
     "text": [
      "                                                             \r"
     ]
    },
    {
     "name": "stdout",
     "output_type": "stream",
     "text": [
      "Epoch 42: F1 = 0.9545\n"
     ]
    },
    {
     "name": "stderr",
     "output_type": "stream",
     "text": [
      "                                                             \r"
     ]
    },
    {
     "name": "stdout",
     "output_type": "stream",
     "text": [
      "Epoch 43: F1 = 0.9646\n"
     ]
    },
    {
     "name": "stderr",
     "output_type": "stream",
     "text": [
      "                                                             \r"
     ]
    },
    {
     "name": "stdout",
     "output_type": "stream",
     "text": [
      "Epoch 44: F1 = 0.9520\n"
     ]
    },
    {
     "name": "stderr",
     "output_type": "stream",
     "text": [
      "                                                             \r"
     ]
    },
    {
     "name": "stdout",
     "output_type": "stream",
     "text": [
      "Epoch 45: F1 = 0.9773\n"
     ]
    },
    {
     "name": "stderr",
     "output_type": "stream",
     "text": [
      "                                                             \r"
     ]
    },
    {
     "name": "stdout",
     "output_type": "stream",
     "text": [
      "Epoch 46: F1 = 0.9697\n"
     ]
    },
    {
     "name": "stderr",
     "output_type": "stream",
     "text": [
      "                                                             \r"
     ]
    },
    {
     "name": "stdout",
     "output_type": "stream",
     "text": [
      "Epoch 47: F1 = 0.9621\n"
     ]
    },
    {
     "name": "stderr",
     "output_type": "stream",
     "text": [
      "                                                             \r"
     ]
    },
    {
     "name": "stdout",
     "output_type": "stream",
     "text": [
      "Epoch 48: F1 = 0.9823\n"
     ]
    },
    {
     "name": "stderr",
     "output_type": "stream",
     "text": [
      "                                                             \r"
     ]
    },
    {
     "name": "stdout",
     "output_type": "stream",
     "text": [
      "Epoch 49: F1 = 0.9697\n"
     ]
    },
    {
     "name": "stderr",
     "output_type": "stream",
     "text": [
      "                                                             \r"
     ]
    },
    {
     "name": "stdout",
     "output_type": "stream",
     "text": [
      "Epoch 50: F1 = 0.9823\n"
     ]
    },
    {
     "name": "stderr",
     "output_type": "stream",
     "text": [
      "                                                             \r"
     ]
    },
    {
     "name": "stdout",
     "output_type": "stream",
     "text": [
      "Epoch 51: F1 = 0.9798\n"
     ]
    },
    {
     "name": "stderr",
     "output_type": "stream",
     "text": [
      "                                                             \r"
     ]
    },
    {
     "name": "stdout",
     "output_type": "stream",
     "text": [
      "Epoch 52: F1 = 0.9773\n"
     ]
    },
    {
     "name": "stderr",
     "output_type": "stream",
     "text": [
      "                                                             \r"
     ]
    },
    {
     "name": "stdout",
     "output_type": "stream",
     "text": [
      "Epoch 53: F1 = 0.9722\n"
     ]
    },
    {
     "name": "stderr",
     "output_type": "stream",
     "text": [
      "                                                             \r"
     ]
    },
    {
     "name": "stdout",
     "output_type": "stream",
     "text": [
      "Epoch 54: F1 = 0.9621\n"
     ]
    },
    {
     "name": "stderr",
     "output_type": "stream",
     "text": [
      "                                                             \r"
     ]
    },
    {
     "name": "stdout",
     "output_type": "stream",
     "text": [
      "Epoch 55: F1 = 0.9697\n"
     ]
    },
    {
     "name": "stderr",
     "output_type": "stream",
     "text": [
      "                                                             \r"
     ]
    },
    {
     "name": "stdout",
     "output_type": "stream",
     "text": [
      "Epoch 56: F1 = 0.9798\n"
     ]
    },
    {
     "name": "stderr",
     "output_type": "stream",
     "text": [
      "                                                             \r"
     ]
    },
    {
     "name": "stdout",
     "output_type": "stream",
     "text": [
      "Epoch 57: F1 = 0.9747\n"
     ]
    },
    {
     "name": "stderr",
     "output_type": "stream",
     "text": [
      "                                                             \r"
     ]
    },
    {
     "name": "stdout",
     "output_type": "stream",
     "text": [
      "Epoch 58: F1 = 0.9747\n"
     ]
    },
    {
     "name": "stderr",
     "output_type": "stream",
     "text": [
      "                                                             \r"
     ]
    },
    {
     "name": "stdout",
     "output_type": "stream",
     "text": [
      "Epoch 59: F1 = 0.9646\n"
     ]
    },
    {
     "name": "stderr",
     "output_type": "stream",
     "text": [
      "                                                             \r"
     ]
    },
    {
     "name": "stdout",
     "output_type": "stream",
     "text": [
      "Epoch 60: F1 = 0.9722\n"
     ]
    },
    {
     "name": "stderr",
     "output_type": "stream",
     "text": [
      "                                                             \r"
     ]
    },
    {
     "name": "stdout",
     "output_type": "stream",
     "text": [
      "Epoch 61: F1 = 0.9848\n"
     ]
    },
    {
     "name": "stderr",
     "output_type": "stream",
     "text": [
      "                                                             \r"
     ]
    },
    {
     "name": "stdout",
     "output_type": "stream",
     "text": [
      "Epoch 62: F1 = 0.9773\n"
     ]
    },
    {
     "name": "stderr",
     "output_type": "stream",
     "text": [
      "                                                             \r"
     ]
    },
    {
     "name": "stdout",
     "output_type": "stream",
     "text": [
      "Epoch 63: F1 = 0.9798\n"
     ]
    },
    {
     "name": "stderr",
     "output_type": "stream",
     "text": [
      "                                                             \r"
     ]
    },
    {
     "name": "stdout",
     "output_type": "stream",
     "text": [
      "Epoch 64: F1 = 0.9823\n"
     ]
    },
    {
     "name": "stderr",
     "output_type": "stream",
     "text": [
      "                                                             \r"
     ]
    },
    {
     "name": "stdout",
     "output_type": "stream",
     "text": [
      "Epoch 65: F1 = 0.9848\n"
     ]
    },
    {
     "name": "stderr",
     "output_type": "stream",
     "text": [
      "                                                             \r"
     ]
    },
    {
     "name": "stdout",
     "output_type": "stream",
     "text": [
      "Epoch 66: F1 = 0.9899\n"
     ]
    },
    {
     "name": "stderr",
     "output_type": "stream",
     "text": [
      "                                                             \r"
     ]
    },
    {
     "name": "stdout",
     "output_type": "stream",
     "text": [
      "Epoch 67: F1 = 0.9949\n"
     ]
    },
    {
     "name": "stderr",
     "output_type": "stream",
     "text": [
      "                                                             \r"
     ]
    },
    {
     "name": "stdout",
     "output_type": "stream",
     "text": [
      "Epoch 68: F1 = 0.9798\n"
     ]
    },
    {
     "name": "stderr",
     "output_type": "stream",
     "text": [
      "                                                             \r"
     ]
    },
    {
     "name": "stdout",
     "output_type": "stream",
     "text": [
      "Epoch 69: F1 = 0.9773\n"
     ]
    },
    {
     "name": "stderr",
     "output_type": "stream",
     "text": [
      "                                                             \r"
     ]
    },
    {
     "name": "stdout",
     "output_type": "stream",
     "text": [
      "Epoch 70: F1 = 0.9823\n"
     ]
    },
    {
     "name": "stderr",
     "output_type": "stream",
     "text": [
      "                                                             \r"
     ]
    },
    {
     "name": "stdout",
     "output_type": "stream",
     "text": [
      "Epoch 71: F1 = 0.9848\n"
     ]
    },
    {
     "name": "stderr",
     "output_type": "stream",
     "text": [
      "                                                             \r"
     ]
    },
    {
     "name": "stdout",
     "output_type": "stream",
     "text": [
      "Epoch 72: F1 = 0.9772\n"
     ]
    },
    {
     "name": "stderr",
     "output_type": "stream",
     "text": [
      "                                                             \r"
     ]
    },
    {
     "name": "stdout",
     "output_type": "stream",
     "text": [
      "Epoch 73: F1 = 0.9722\n"
     ]
    },
    {
     "name": "stderr",
     "output_type": "stream",
     "text": [
      "                                                             \r"
     ]
    },
    {
     "name": "stdout",
     "output_type": "stream",
     "text": [
      "Epoch 74: F1 = 0.9747\n"
     ]
    },
    {
     "name": "stderr",
     "output_type": "stream",
     "text": [
      "                                                             \r"
     ]
    },
    {
     "name": "stdout",
     "output_type": "stream",
     "text": [
      "Epoch 75: F1 = 0.9874\n"
     ]
    },
    {
     "name": "stderr",
     "output_type": "stream",
     "text": [
      "                                                             \r"
     ]
    },
    {
     "name": "stdout",
     "output_type": "stream",
     "text": [
      "Epoch 76: F1 = 0.9798\n"
     ]
    },
    {
     "name": "stderr",
     "output_type": "stream",
     "text": [
      "                                                             \r"
     ]
    },
    {
     "name": "stdout",
     "output_type": "stream",
     "text": [
      "Epoch 77: F1 = 0.9671\n"
     ]
    },
    {
     "name": "stderr",
     "output_type": "stream",
     "text": [
      "                                                             \r"
     ]
    },
    {
     "name": "stdout",
     "output_type": "stream",
     "text": [
      "Epoch 78: F1 = 0.9773\n"
     ]
    },
    {
     "name": "stderr",
     "output_type": "stream",
     "text": [
      "                                                             \r"
     ]
    },
    {
     "name": "stdout",
     "output_type": "stream",
     "text": [
      "Epoch 79: F1 = 0.9924\n"
     ]
    },
    {
     "name": "stderr",
     "output_type": "stream",
     "text": [
      "                                                             \r"
     ]
    },
    {
     "name": "stdout",
     "output_type": "stream",
     "text": [
      "Epoch 80: F1 = 0.9798\n"
     ]
    },
    {
     "name": "stderr",
     "output_type": "stream",
     "text": [
      "                                                             \r"
     ]
    },
    {
     "name": "stdout",
     "output_type": "stream",
     "text": [
      "Epoch 81: F1 = 0.9823\n"
     ]
    },
    {
     "name": "stderr",
     "output_type": "stream",
     "text": [
      "                                                             \r"
     ]
    },
    {
     "name": "stdout",
     "output_type": "stream",
     "text": [
      "Epoch 82: F1 = 0.9848\n"
     ]
    },
    {
     "name": "stderr",
     "output_type": "stream",
     "text": [
      "                                                             \r"
     ]
    },
    {
     "name": "stdout",
     "output_type": "stream",
     "text": [
      "Epoch 83: F1 = 0.9949\n"
     ]
    },
    {
     "name": "stderr",
     "output_type": "stream",
     "text": [
      "                                                             \r"
     ]
    },
    {
     "name": "stdout",
     "output_type": "stream",
     "text": [
      "Epoch 84: F1 = 0.9899\n"
     ]
    },
    {
     "name": "stderr",
     "output_type": "stream",
     "text": [
      "                                                             \r"
     ]
    },
    {
     "name": "stdout",
     "output_type": "stream",
     "text": [
      "Epoch 85: F1 = 0.9874\n"
     ]
    },
    {
     "name": "stderr",
     "output_type": "stream",
     "text": [
      "                                                             \r"
     ]
    },
    {
     "name": "stdout",
     "output_type": "stream",
     "text": [
      "Epoch 86: F1 = 0.9874\n"
     ]
    },
    {
     "name": "stderr",
     "output_type": "stream",
     "text": [
      "                                                             \r"
     ]
    },
    {
     "name": "stdout",
     "output_type": "stream",
     "text": [
      "Epoch 87: F1 = 0.9899\n"
     ]
    },
    {
     "name": "stderr",
     "output_type": "stream",
     "text": [
      "                                                             \r"
     ]
    },
    {
     "name": "stdout",
     "output_type": "stream",
     "text": [
      "Epoch 88: F1 = 0.9773\n"
     ]
    },
    {
     "name": "stderr",
     "output_type": "stream",
     "text": [
      "                                                             \r"
     ]
    },
    {
     "name": "stdout",
     "output_type": "stream",
     "text": [
      "Epoch 89: F1 = 0.9874\n"
     ]
    },
    {
     "name": "stderr",
     "output_type": "stream",
     "text": [
      "                                                             \r"
     ]
    },
    {
     "name": "stdout",
     "output_type": "stream",
     "text": [
      "Epoch 90: F1 = 0.9924\n"
     ]
    },
    {
     "name": "stderr",
     "output_type": "stream",
     "text": [
      "                                                             \r"
     ]
    },
    {
     "name": "stdout",
     "output_type": "stream",
     "text": [
      "Epoch 91: F1 = 0.9848\n"
     ]
    },
    {
     "name": "stderr",
     "output_type": "stream",
     "text": [
      "                                                             \r"
     ]
    },
    {
     "name": "stdout",
     "output_type": "stream",
     "text": [
      "Epoch 92: F1 = 0.9798\n"
     ]
    },
    {
     "name": "stderr",
     "output_type": "stream",
     "text": [
      "                                                             \r"
     ]
    },
    {
     "name": "stdout",
     "output_type": "stream",
     "text": [
      "Epoch 93: F1 = 0.9823\n"
     ]
    },
    {
     "name": "stderr",
     "output_type": "stream",
     "text": [
      "                                                             \r"
     ]
    },
    {
     "name": "stdout",
     "output_type": "stream",
     "text": [
      "Epoch 94: F1 = 0.9798\n"
     ]
    },
    {
     "name": "stderr",
     "output_type": "stream",
     "text": [
      "                                                             \r"
     ]
    },
    {
     "name": "stdout",
     "output_type": "stream",
     "text": [
      "Epoch 95: F1 = 0.9848\n"
     ]
    },
    {
     "name": "stderr",
     "output_type": "stream",
     "text": [
      "                                                             \r"
     ]
    },
    {
     "name": "stdout",
     "output_type": "stream",
     "text": [
      "Epoch 96: F1 = 0.9798\n"
     ]
    },
    {
     "name": "stderr",
     "output_type": "stream",
     "text": [
      "                                                             \r"
     ]
    },
    {
     "name": "stdout",
     "output_type": "stream",
     "text": [
      "Epoch 97: F1 = 0.9874\n"
     ]
    },
    {
     "name": "stderr",
     "output_type": "stream",
     "text": [
      "                                                             \r"
     ]
    },
    {
     "name": "stdout",
     "output_type": "stream",
     "text": [
      "Epoch 98: F1 = 0.9874\n"
     ]
    },
    {
     "name": "stderr",
     "output_type": "stream",
     "text": [
      "                                                             \r"
     ]
    },
    {
     "name": "stdout",
     "output_type": "stream",
     "text": [
      "Epoch 99: F1 = 0.9899\n"
     ]
    },
    {
     "name": "stderr",
     "output_type": "stream",
     "text": [
      "                                                             "
     ]
    },
    {
     "name": "stdout",
     "output_type": "stream",
     "text": [
      "Epoch 100: F1 = 0.9823\n"
     ]
    },
    {
     "name": "stderr",
     "output_type": "stream",
     "text": [
      "\r"
     ]
    }
   ],
   "source": [
    "# 최적의 하이퍼파라미터로 최종 모델 학습\n",
    "\n",
    "\n",
    "# 최종 모델 학습\n",
    "model = timm.create_model(\n",
    "    loaded_params['model_name'],\n",
    "    pretrained=True,\n",
    "    num_classes=17\n",
    ").to(device)\n",
    "\n",
    "optimizer_class = getattr(torch.optim, loaded_params['optimizer'])\n",
    "optimizer = optimizer_class(model.parameters(), lr=loaded_params['lr'])\n",
    "loss_fn = nn.CrossEntropyLoss()\n",
    "\n",
    "\n",
    "# -----------------------------------------------------------------------------\n",
    "# 초기 학습\n",
    "print(\"Training initial model...\")\n",
    "for epoch in range(100):\n",
    "    ret = train_one_epoch(trn_loader, model, optimizer, loss_fn, device)\n",
    "    # if epoch % 10 ==0:\n",
    "    print(f\"Epoch {epoch+1}: F1 = {ret['f1']:.4f}\")\n"
   ]
  },
  {
   "cell_type": "code",
   "execution_count": null,
   "metadata": {},
   "outputs": [],
   "source": [
    "\n"
   ]
  },
  {
   "cell_type": "code",
   "execution_count": null,
   "metadata": {},
   "outputs": [],
   "source": [
    "\n",
    "# Pseudo Labeling\n",
    "print(\"\\nGenerating pseudo labels...\")\n",
    "pseudo_labels, confidences = generate_pseudo_labels(model, tst_loader, device)\n",
    "\n",
    "# 높은 신뢰도의 예측만 선택 (임계값: 0.9)\n",
    "confidence_threshold = 0.9\n",
    "high_confidence_mask = confidences > confidence_threshold\n",
    "\n",
    "# Pseudo label 데이터 생성\n",
    "test_data = pd.read_csv(sample_path)\n",
    "pseudo_df = pd.DataFrame({\n",
    "    'ID': test_data['ID'][high_confidence_mask],\n",
    "    'target': pseudo_labels[high_confidence_mask]\n",
    "})\n",
    "\n",
    "# Pseudo label 데이터로 추가 학습\n",
    "print(f\"\\nFound {len(pseudo_df)} high-confidence pseudo labels\")\n",
    "if len(pseudo_df) > 0:\n",
    "    pseudo_dataset = ImageDataset(pseudo_df, test_img_path, transform=trn_transform)\n",
    "    pseudo_loader = DataLoader(\n",
    "        pseudo_dataset,\n",
    "        batch_size=loaded_params['batch_size'],\n",
    "        shuffle=True,\n",
    "        num_workers=4,\n",
    "        pin_memory=True\n",
    "    )\n",
    "    \n",
    "    # -----------------------------------------------------------------------------\n",
    "    print(\"Training with pseudo labels...\")\n",
    "    for epoch in range(20):\n",
    "        ret = train_one_epoch(pseudo_loader, model, optimizer, loss_fn, device)\n",
    "        print(f\"Pseudo Label Epoch {epoch+1}: F1 = {ret['f1']:.4f}\")\n",
    "\n"
   ]
  },
  {
   "cell_type": "code",
   "execution_count": null,
   "metadata": {},
   "outputs": [],
   "source": []
  },
  {
   "cell_type": "code",
   "execution_count": 14,
   "metadata": {},
   "outputs": [],
   "source": [
    "def save_model(model, save_dir, model_name=None, additional_info=None):\n",
    "    \"\"\"\n",
    "    모델을 저장하는 함수\n",
    "    \n",
    "    Parameters:\n",
    "    model: 저장할 PyTorch 모델\n",
    "    save_dir: 저장할 디렉토리 경로\n",
    "    model_name: 모델 파일 이름 (None인 경우 타임스탬프 사용)\n",
    "    additional_info: 모델과 함께 저장할 추가 정보 (옵션)\n",
    "    \"\"\"\n",
    "    # 저장 디렉토리 생성\n",
    "    os.makedirs(save_dir, exist_ok=True)\n",
    "    \n",
    "    # 파일명 생성\n",
    "    if model_name is None:\n",
    "        timestamp = datetime.now().strftime('%Y%m%d_%H%M%S')\n",
    "        model_name = f'model_{timestamp}'\n",
    "    \n",
    "    # 저장할 데이터 준비\n",
    "    save_dict = {\n",
    "        'model_state_dict': model.state_dict(),\n",
    "        'timestamp': datetime.now().strftime('%Y-%m-%d %H:%M:%S'),\n",
    "    }\n",
    "    \n",
    "    # 추가 정보가 있는 경우 저장\n",
    "    if additional_info:\n",
    "        save_dict.update(additional_info)\n",
    "    \n",
    "    # 모델 저장\n",
    "    save_path = os.path.join(save_dir, f'{model_name}.pth')\n",
    "    torch.save(save_dict, save_path)\n",
    "    \n",
    "    print(f\"Model saved to: {save_path}\")\n",
    "    return save_path\n",
    "\n",
    "def load_model(model_name, model_path, num_classes = 17):\n",
    "    \"\"\"\n",
    "    저장된 모델을 불러오는 함수\n",
    "    \n",
    "    Parameters:\n",
    "    model: 불러올 모델 구조 (빈 모델)\n",
    "    model_path: 저장된 모델 파일 경로\n",
    "    \n",
    "    Returns:\n",
    "    model: 로드된 모델\n",
    "    additional_info: 추가 정보 (있는 경우)\n",
    "    \"\"\"\n",
    "    \n",
    "    model = timm.create_model(\n",
    "        model_name=model_name,\n",
    "        pretrained=False,  # 저장된 가중치를 불러올 것이므로 False\n",
    "        num_classes=num_classes\n",
    "    ).to(device)\n",
    "    \n",
    "    # 모델 파일 로드\n",
    "    checkpoint = torch.load(model_path)\n",
    "    \n",
    "    # 모델 가중치 로드\n",
    "    model.load_state_dict(checkpoint['model_state_dict'])\n",
    "    \n",
    "    # 추가 정보 반환\n",
    "    additional_info = {k: v for k, v in checkpoint.items() if k != 'model_state_dict'}\n",
    "    \n",
    "    print(f\"Model loaded from: {model_path}\")\n",
    "    print(f\"Model timestamp: {additional_info.get('timestamp', 'N/A')}\")\n",
    "    \n",
    "    return model, additional_info"
   ]
  },
  {
   "cell_type": "code",
   "execution_count": 15,
   "metadata": {},
   "outputs": [
    {
     "name": "stdout",
     "output_type": "stream",
     "text": [
      "Model saved to: models/eva02_base_patch14_448.pth\n"
     ]
    },
    {
     "data": {
      "text/plain": [
       "'models/eva02_base_patch14_448.pth'"
      ]
     },
     "execution_count": 15,
     "metadata": {},
     "output_type": "execute_result"
    }
   ],
   "source": [
    "save_model(\n",
    "    model=model,\n",
    "    save_dir='models/',\n",
    "    model_name='eva02_base_patch14_448',\n",
    "    # additional_info={\n",
    "    #     'epoch': current_epoch,\n",
    "    #     'train_loss': train_loss,\n",
    "    #     'val_loss': val_loss,\n",
    "    #     'accuracy': accuracy\n",
    "    # }\n",
    ")\n"
   ]
  },
  {
   "cell_type": "code",
   "execution_count": 29,
   "metadata": {},
   "outputs": [
    {
     "name": "stdout",
     "output_type": "stream",
     "text": [
      "Model loaded from: models/tf_efficientnet_b3.ns_jft_in1k.pth\n",
      "Model timestamp: 2024-11-05 10:02:12\n"
     ]
    }
   ],
   "source": [
    "# 3. 모델 불러오기\n",
    "model, info = load_model(\n",
    "    model_name='tf_efficientnet_b3.ns_jft_in1k',  # 빈 모델 구조\n",
    "    model_path='models/tf_efficientnet_b3.ns_jft_in1k.pth'\n",
    ")"
   ]
  },
  {
   "cell_type": "code",
   "execution_count": 28,
   "metadata": {},
   "outputs": [
    {
     "name": "stdout",
     "output_type": "stream",
     "text": [
      "\n",
      "Generating final predictions...\n"
     ]
    },
    {
     "name": "stderr",
     "output_type": "stream",
     "text": [
      "100%|██████████| 25/25 [00:01<00:00, 19.89it/s]"
     ]
    },
    {
     "name": "stdout",
     "output_type": "stream",
     "text": [
      "\n",
      "Predictions saved to 'predictions.csv'\n"
     ]
    },
    {
     "name": "stderr",
     "output_type": "stream",
     "text": [
      "\n"
     ]
    }
   ],
   "source": [
    "test_data = pd.read_csv(sample_path)\n",
    "\n",
    "# 최종 예측 및 저장\n",
    "print(\"\\nGenerating final predictions...\")\n",
    "final_preds = []\n",
    "model.eval()\n",
    "with torch.no_grad():\n",
    "    for image, _ in tqdm(tst_loader):\n",
    "        image = image.to(device)\n",
    "        preds = model(image)\n",
    "        final_preds.extend(preds.argmax(dim=1).cpu().numpy())\n",
    "\n",
    "pred_df = pd.DataFrame({\n",
    "    'ID': test_data['ID'],\n",
    "    'target': final_preds\n",
    "})\n",
    "now = datetime.now()\n",
    "pred_df.to_csv(f\"predictions_{now.month:02}{now.day:02}{now.hour:02}{now.minute:02}.csv\", index=False)\n",
    "print(\"\\nPredictions saved to 'predictions.csv'\")"
   ]
  },
  {
   "cell_type": "code",
   "execution_count": null,
   "metadata": {},
   "outputs": [],
   "source": []
  },
  {
   "cell_type": "code",
   "execution_count": null,
   "metadata": {},
   "outputs": [],
   "source": []
  },
  {
   "cell_type": "code",
   "execution_count": null,
   "metadata": {},
   "outputs": [],
   "source": []
  }
 ],
 "metadata": {
  "kernelspec": {
   "display_name": "base",
   "language": "python",
   "name": "python3"
  },
  "language_info": {
   "codemirror_mode": {
    "name": "ipython",
    "version": 3
   },
   "file_extension": ".py",
   "mimetype": "text/x-python",
   "name": "python",
   "nbconvert_exporter": "python",
   "pygments_lexer": "ipython3",
   "version": "3.10.13"
  }
 },
 "nbformat": 4,
 "nbformat_minor": 2
}
